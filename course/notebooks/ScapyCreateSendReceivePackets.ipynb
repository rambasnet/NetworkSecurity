{
 "cells": [
  {
   "cell_type": "markdown",
   "metadata": {},
   "source": [
    "# Creating, Sending and Receiving Packets"
   ]
  },
  {
   "cell_type": "code",
   "execution_count": null,
   "metadata": {},
   "outputs": [],
   "source": [
    "from scapy.all import *"
   ]
  },
  {
   "cell_type": "code",
   "execution_count": null,
   "metadata": {},
   "outputs": [],
   "source": [
    "conf.verb=1\n",
    "conf.color_theme = RastaTheme()"
   ]
  },
  {
   "cell_type": "markdown",
   "metadata": {},
   "source": [
    "## Stacking Layers\n",
    "\n",
    "- the `/` operator is used as a composition operator between two layers\n",
    "- the lower layer can have one or more of its defaults fields overloaded according to the upper layer\n",
    "    - you still can give the value you want\n",
    "    - a string can be used as a raw layer\n",
    "    \n",
    "<img src=\"http://scapy.readthedocs.io/en/latest/_images/fieldsmanagement.png\" />"
   ]
  },
  {
   "cell_type": "code",
   "execution_count": 4,
   "metadata": {},
   "outputs": [
    {
     "name": "stdout",
     "output_type": "stream",
     "text": [
      "\u001b[31m###[\u001b[0m\u001b[32m\u001b[1m \u001b[31m\u001b[1mIP\u001b[0m\u001b[32m\u001b[1m \u001b[31m]###\u001b[0m\u001b[32m\u001b[1m\n",
      "  \u001b[33m\u001b[1mversion\u001b[0m\u001b[32m\u001b[1m   \u001b[31m=\u001b[0m\u001b[32m\u001b[1m \u001b[32m\u001b[1m4\u001b[0m\u001b[32m\u001b[1m\n",
      "  \u001b[33m\u001b[1mihl\u001b[0m\u001b[32m\u001b[1m       \u001b[31m=\u001b[0m\u001b[32m\u001b[1m \u001b[32m\u001b[1mNone\u001b[0m\u001b[32m\u001b[1m\n",
      "  \u001b[33m\u001b[1mtos\u001b[0m\u001b[32m\u001b[1m       \u001b[31m=\u001b[0m\u001b[32m\u001b[1m \u001b[32m\u001b[1m0x0\u001b[0m\u001b[32m\u001b[1m\n",
      "  \u001b[33m\u001b[1mlen\u001b[0m\u001b[32m\u001b[1m       \u001b[31m=\u001b[0m\u001b[32m\u001b[1m \u001b[32m\u001b[1mNone\u001b[0m\u001b[32m\u001b[1m\n",
      "  \u001b[33m\u001b[1mid\u001b[0m\u001b[32m\u001b[1m        \u001b[31m=\u001b[0m\u001b[32m\u001b[1m \u001b[32m\u001b[1m1\u001b[0m\u001b[32m\u001b[1m\n",
      "  \u001b[33m\u001b[1mflags\u001b[0m\u001b[32m\u001b[1m     \u001b[31m=\u001b[0m\u001b[32m\u001b[1m \u001b[32m\u001b[1m\u001b[0m\u001b[32m\u001b[1m\n",
      "  \u001b[33m\u001b[1mfrag\u001b[0m\u001b[32m\u001b[1m      \u001b[31m=\u001b[0m\u001b[32m\u001b[1m \u001b[32m\u001b[1m0\u001b[0m\u001b[32m\u001b[1m\n",
      "  \u001b[33m\u001b[1mttl\u001b[0m\u001b[32m\u001b[1m       \u001b[31m=\u001b[0m\u001b[32m\u001b[1m \u001b[32m\u001b[1m64\u001b[0m\u001b[32m\u001b[1m\n",
      "  \u001b[33m\u001b[1mproto\u001b[0m\u001b[32m\u001b[1m     \u001b[31m=\u001b[0m\u001b[32m\u001b[1m \u001b[32m\u001b[1mhopopt\u001b[0m\u001b[32m\u001b[1m\n",
      "  \u001b[33m\u001b[1mchksum\u001b[0m\u001b[32m\u001b[1m    \u001b[31m=\u001b[0m\u001b[32m\u001b[1m \u001b[32m\u001b[1mNone\u001b[0m\u001b[32m\u001b[1m\n",
      "  \u001b[32msrc\u001b[0m\u001b[32m\u001b[1m       \u001b[31m=\u001b[0m\u001b[32m\u001b[1m \u001b[32m127.0.0.1\u001b[0m\u001b[32m\u001b[1m\n",
      "  \u001b[32mdst\u001b[0m\u001b[32m\u001b[1m       \u001b[31m=\u001b[0m\u001b[32m\u001b[1m \u001b[32m127.0.0.1\u001b[0m\u001b[32m\u001b[1m\n",
      "  \u001b[31m\\\u001b[0m\u001b[32m\u001b[1m\u001b[33m\u001b[1moptions\u001b[0m\u001b[32m\u001b[1m   \u001b[31m\\\u001b[0m\u001b[32m\u001b[1m\n",
      "\n"
     ]
    }
   ],
   "source": [
    "IP().show()"
   ]
  },
  {
   "cell_type": "code",
   "execution_count": 6,
   "metadata": {},
   "outputs": [
    {
     "data": {
      "text/plain": [
       "\u001b[31m<\u001b[0m\u001b[32m\u001b[1m\u001b[31m\u001b[1mTCP\u001b[0m\u001b[32m\u001b[1m  \u001b[31m|\u001b[0m\u001b[32m\u001b[1m\u001b[31m<\u001b[0m\u001b[32m\u001b[1m\u001b[31m\u001b[1mIP\u001b[0m\u001b[32m\u001b[1m  \u001b[33m\u001b[1mfrag\u001b[0m\u001b[32m\u001b[1m\u001b[31m=\u001b[0m\u001b[32m\u001b[1m\u001b[32m\u001b[1m0\u001b[0m\u001b[32m\u001b[1m \u001b[33m\u001b[1mproto\u001b[0m\u001b[32m\u001b[1m\u001b[31m=\u001b[0m\u001b[32m\u001b[1m\u001b[32m\u001b[1mtcp\u001b[0m\u001b[32m\u001b[1m \u001b[31m|\u001b[0m\u001b[32m\u001b[1m\u001b[31m<\u001b[0m\u001b[32m\u001b[1m\u001b[31m\u001b[1mTCP\u001b[0m\u001b[32m\u001b[1m  \u001b[31m|\u001b[0m\u001b[32m\u001b[1m\u001b[31m>\u001b[0m\u001b[32m\u001b[1m\u001b[31m>\u001b[0m\u001b[32m\u001b[1m\u001b[31m>\u001b[0m\u001b[32m\u001b[1m"
      ]
     },
     "execution_count": 6,
     "metadata": {},
     "output_type": "execute_result"
    }
   ],
   "source": [
    "TCP()/IP()/TCP()"
   ]
  },
  {
   "cell_type": "code",
   "execution_count": 7,
   "metadata": {},
   "outputs": [
    {
     "data": {
      "text/plain": [
       "\u001b[31m<\u001b[0m\u001b[32m\u001b[1m\u001b[31m\u001b[1mEther\u001b[0m\u001b[32m\u001b[1m  \u001b[33m\u001b[1mtype\u001b[0m\u001b[32m\u001b[1m\u001b[31m=\u001b[0m\u001b[32m\u001b[1m\u001b[32m\u001b[1mIPv4\u001b[0m\u001b[32m\u001b[1m \u001b[31m|\u001b[0m\u001b[32m\u001b[1m\u001b[31m<\u001b[0m\u001b[32m\u001b[1m\u001b[31m\u001b[1mIP\u001b[0m\u001b[32m\u001b[1m  \u001b[33m\u001b[1mfrag\u001b[0m\u001b[32m\u001b[1m\u001b[31m=\u001b[0m\u001b[32m\u001b[1m\u001b[32m\u001b[1m0\u001b[0m\u001b[32m\u001b[1m \u001b[33m\u001b[1mproto\u001b[0m\u001b[32m\u001b[1m\u001b[31m=\u001b[0m\u001b[32m\u001b[1m\u001b[32m\u001b[1mtcp\u001b[0m\u001b[32m\u001b[1m \u001b[31m|\u001b[0m\u001b[32m\u001b[1m\u001b[31m<\u001b[0m\u001b[32m\u001b[1m\u001b[31m\u001b[1mTCP\u001b[0m\u001b[32m\u001b[1m  \u001b[31m|\u001b[0m\u001b[32m\u001b[1m\u001b[31m>\u001b[0m\u001b[32m\u001b[1m\u001b[31m>\u001b[0m\u001b[32m\u001b[1m\u001b[31m>\u001b[0m\u001b[32m\u001b[1m"
      ]
     },
     "execution_count": 7,
     "metadata": {},
     "output_type": "execute_result"
    }
   ],
   "source": [
    "Ether()/IP()/TCP()"
   ]
  },
  {
   "cell_type": "code",
   "execution_count": 8,
   "metadata": {},
   "outputs": [
    {
     "data": {
      "text/plain": [
       "\u001b[31m<\u001b[0m\u001b[32m\u001b[1m\u001b[31m\u001b[1mEther\u001b[0m\u001b[32m\u001b[1m  \u001b[33m\u001b[1mtype\u001b[0m\u001b[32m\u001b[1m\u001b[31m=\u001b[0m\u001b[32m\u001b[1m\u001b[32m\u001b[1mIPv4\u001b[0m\u001b[32m\u001b[1m \u001b[31m|\u001b[0m\u001b[32m\u001b[1m\u001b[31m<\u001b[0m\u001b[32m\u001b[1m\u001b[31m\u001b[1mIP\u001b[0m\u001b[32m\u001b[1m  \u001b[33m\u001b[1mfrag\u001b[0m\u001b[32m\u001b[1m\u001b[31m=\u001b[0m\u001b[32m\u001b[1m\u001b[32m\u001b[1m0\u001b[0m\u001b[32m\u001b[1m \u001b[33m\u001b[1mproto\u001b[0m\u001b[32m\u001b[1m\u001b[31m=\u001b[0m\u001b[32m\u001b[1m\u001b[32m\u001b[1mtcp\u001b[0m\u001b[32m\u001b[1m \u001b[31m|\u001b[0m\u001b[32m\u001b[1m\u001b[31m<\u001b[0m\u001b[32m\u001b[1m\u001b[31m\u001b[1mTCP\u001b[0m\u001b[32m\u001b[1m  \u001b[31m|\u001b[0m\u001b[32m\u001b[1m\u001b[31m<\u001b[0m\u001b[32m\u001b[1m\u001b[31m\u001b[1mRaw\u001b[0m\u001b[32m\u001b[1m  \u001b[33m\u001b[1mload\u001b[0m\u001b[32m\u001b[1m\u001b[31m=\u001b[0m\u001b[32m\u001b[1m\u001b[32m\u001b[1mb'GET / HTTP/1.0\\r\\n\\r\\n'\u001b[0m\u001b[32m\u001b[1m \u001b[31m|\u001b[0m\u001b[32m\u001b[1m\u001b[31m>\u001b[0m\u001b[32m\u001b[1m\u001b[31m>\u001b[0m\u001b[32m\u001b[1m\u001b[31m>\u001b[0m\u001b[32m\u001b[1m\u001b[31m>\u001b[0m\u001b[32m\u001b[1m"
      ]
     },
     "execution_count": 8,
     "metadata": {},
     "output_type": "execute_result"
    }
   ],
   "source": [
    "Ether()/IP()/TCP()/\"GET / HTTP/1.0\\r\\n\\r\\n\""
   ]
  },
  {
   "cell_type": "code",
   "execution_count": 9,
   "metadata": {},
   "outputs": [
    {
     "data": {
      "text/plain": [
       "\u001b[31m<\u001b[0m\u001b[32m\u001b[1m\u001b[31m\u001b[1mEther\u001b[0m\u001b[32m\u001b[1m  \u001b[33m\u001b[1mtype\u001b[0m\u001b[32m\u001b[1m\u001b[31m=\u001b[0m\u001b[32m\u001b[1m\u001b[32m\u001b[1mIPv4\u001b[0m\u001b[32m\u001b[1m \u001b[31m|\u001b[0m\u001b[32m\u001b[1m\u001b[31m<\u001b[0m\u001b[32m\u001b[1m\u001b[31m\u001b[1mIP\u001b[0m\u001b[32m\u001b[1m  \u001b[33m\u001b[1mfrag\u001b[0m\u001b[32m\u001b[1m\u001b[31m=\u001b[0m\u001b[32m\u001b[1m\u001b[32m\u001b[1m0\u001b[0m\u001b[32m\u001b[1m \u001b[33m\u001b[1mproto\u001b[0m\u001b[32m\u001b[1m\u001b[31m=\u001b[0m\u001b[32m\u001b[1m\u001b[32m\u001b[1mipencap\u001b[0m\u001b[32m\u001b[1m \u001b[31m|\u001b[0m\u001b[32m\u001b[1m\u001b[31m<\u001b[0m\u001b[32m\u001b[1m\u001b[31m\u001b[1mIP\u001b[0m\u001b[32m\u001b[1m  \u001b[33m\u001b[1mfrag\u001b[0m\u001b[32m\u001b[1m\u001b[31m=\u001b[0m\u001b[32m\u001b[1m\u001b[32m\u001b[1m0\u001b[0m\u001b[32m\u001b[1m \u001b[33m\u001b[1mproto\u001b[0m\u001b[32m\u001b[1m\u001b[31m=\u001b[0m\u001b[32m\u001b[1m\u001b[32m\u001b[1mudp\u001b[0m\u001b[32m\u001b[1m \u001b[31m|\u001b[0m\u001b[32m\u001b[1m\u001b[31m<\u001b[0m\u001b[32m\u001b[1m\u001b[31m\u001b[1mUDP\u001b[0m\u001b[32m\u001b[1m  \u001b[31m|\u001b[0m\u001b[32m\u001b[1m\u001b[31m>\u001b[0m\u001b[32m\u001b[1m\u001b[31m>\u001b[0m\u001b[32m\u001b[1m\u001b[31m>\u001b[0m\u001b[32m\u001b[1m\u001b[31m>\u001b[0m\u001b[32m\u001b[1m"
      ]
     },
     "execution_count": 9,
     "metadata": {},
     "output_type": "execute_result"
    }
   ],
   "source": [
    "Ether()/IP()/IP()/UDP()"
   ]
  },
  {
   "cell_type": "code",
   "execution_count": 12,
   "metadata": {},
   "outputs": [
    {
     "data": {
      "text/plain": [
       "\u001b[31m<\u001b[0m\u001b[32m\u001b[1m\u001b[31m\u001b[1mIP\u001b[0m\u001b[32m\u001b[1m  \u001b[33m\u001b[1mfrag\u001b[0m\u001b[32m\u001b[1m\u001b[31m=\u001b[0m\u001b[32m\u001b[1m\u001b[32m\u001b[1m0\u001b[0m\u001b[32m\u001b[1m \u001b[33m\u001b[1mproto\u001b[0m\u001b[32m\u001b[1m\u001b[31m=\u001b[0m\u001b[32m\u001b[1m\u001b[32m\u001b[1m55\u001b[0m\u001b[32m\u001b[1m \u001b[31m|\u001b[0m\u001b[32m\u001b[1m\u001b[31m<\u001b[0m\u001b[32m\u001b[1m\u001b[31m\u001b[1mTCP\u001b[0m\u001b[32m\u001b[1m  \u001b[33m\u001b[1mdport\u001b[0m\u001b[32m\u001b[1m\u001b[31m=\u001b[0m\u001b[32m\u001b[1m\u001b[32m\u001b[1mhttp\u001b[0m\u001b[32m\u001b[1m \u001b[31m|\u001b[0m\u001b[32m\u001b[1m\u001b[31m>\u001b[0m\u001b[32m\u001b[1m\u001b[31m>\u001b[0m\u001b[32m\u001b[1m"
      ]
     },
     "execution_count": 12,
     "metadata": {},
     "output_type": "execute_result"
    }
   ],
   "source": [
    "IP(proto=55)/TCP(dport=80)"
   ]
  },
  {
   "cell_type": "markdown",
   "metadata": {},
   "source": [
    "## Build ARP packets\n",
    "- build ARP packet which has two layers - Ether and ARP"
   ]
  },
  {
   "cell_type": "code",
   "execution_count": 13,
   "metadata": {},
   "outputs": [
    {
     "name": "stdout",
     "output_type": "stream",
     "text": [
      "dst        : DestMACField                        = ('None')\n",
      "src        : SourceMACField                      = ('None')\n",
      "type       : XShortEnumField                     = ('36864')\n"
     ]
    }
   ],
   "source": [
    "ls(Ether)"
   ]
  },
  {
   "cell_type": "code",
   "execution_count": 14,
   "metadata": {},
   "outputs": [
    {
     "name": "stdout",
     "output_type": "stream",
     "text": [
      "hwtype     : XShortEnumField                     = ('1')\n",
      "ptype      : XShortEnumField                     = ('2048')\n",
      "hwlen      : FieldLenField                       = ('None')\n",
      "plen       : FieldLenField                       = ('None')\n",
      "op         : ShortEnumField                      = ('1')\n",
      "hwsrc      : MultipleTypeField (SourceMACField, StrFixedLenField) = ('None')\n",
      "psrc       : MultipleTypeField (SourceIPField, SourceIP6Field, StrFixedLenField) = ('None')\n",
      "hwdst      : MultipleTypeField (MACField, StrFixedLenField) = ('None')\n",
      "pdst       : MultipleTypeField (IPField, IP6Field, StrFixedLenField) = ('None')\n"
     ]
    }
   ],
   "source": [
    "ls(ARP)"
   ]
  },
  {
   "cell_type": "code",
   "execution_count": 15,
   "metadata": {},
   "outputs": [],
   "source": [
    "arpPkt = Ether()/ARP()"
   ]
  },
  {
   "cell_type": "code",
   "execution_count": 17,
   "metadata": {},
   "outputs": [
    {
     "name": "stdout",
     "output_type": "stream",
     "text": [
      "\u001b[31m###[\u001b[0m\u001b[32m\u001b[1m \u001b[31m\u001b[1mEthernet\u001b[0m\u001b[32m\u001b[1m \u001b[31m]###\u001b[0m\u001b[32m\u001b[1m\n",
      "  \u001b[33m\u001b[1mdst\u001b[0m\u001b[32m\u001b[1m       \u001b[31m=\u001b[0m\u001b[32m\u001b[1m \u001b[32m\u001b[1mNone\u001b[0m\u001b[32m\u001b[1m\n",
      "  \u001b[33m\u001b[1msrc\u001b[0m\u001b[32m\u001b[1m       \u001b[31m=\u001b[0m\u001b[32m\u001b[1m \u001b[32m\u001b[1m00:0c:29:de:4e:98\u001b[0m\u001b[32m\u001b[1m\n",
      "  \u001b[33m\u001b[1mtype\u001b[0m\u001b[32m\u001b[1m      \u001b[31m=\u001b[0m\u001b[32m\u001b[1m \u001b[32m\u001b[1mARP\u001b[0m\u001b[32m\u001b[1m\n",
      "\u001b[31m###[\u001b[0m\u001b[32m\u001b[1m \u001b[31m\u001b[1mARP\u001b[0m\u001b[32m\u001b[1m \u001b[31m]###\u001b[0m\u001b[32m\u001b[1m\n",
      "     \u001b[33m\u001b[1mhwtype\u001b[0m\u001b[32m\u001b[1m    \u001b[31m=\u001b[0m\u001b[32m\u001b[1m \u001b[32m\u001b[1mEthernet (10Mb)\u001b[0m\u001b[32m\u001b[1m\n",
      "     \u001b[33m\u001b[1mptype\u001b[0m\u001b[32m\u001b[1m     \u001b[31m=\u001b[0m\u001b[32m\u001b[1m \u001b[32m\u001b[1mIPv4\u001b[0m\u001b[32m\u001b[1m\n",
      "     \u001b[33m\u001b[1mhwlen\u001b[0m\u001b[32m\u001b[1m     \u001b[31m=\u001b[0m\u001b[32m\u001b[1m \u001b[32m\u001b[1mNone\u001b[0m\u001b[32m\u001b[1m\n",
      "     \u001b[33m\u001b[1mplen\u001b[0m\u001b[32m\u001b[1m      \u001b[31m=\u001b[0m\u001b[32m\u001b[1m \u001b[32m\u001b[1mNone\u001b[0m\u001b[32m\u001b[1m\n",
      "     \u001b[33m\u001b[1mop\u001b[0m\u001b[32m\u001b[1m        \u001b[31m=\u001b[0m\u001b[32m\u001b[1m \u001b[32m\u001b[1mwho-has\u001b[0m\u001b[32m\u001b[1m\n",
      "     \u001b[33m\u001b[1mhwsrc\u001b[0m\u001b[32m\u001b[1m     \u001b[31m=\u001b[0m\u001b[32m\u001b[1m \u001b[32m\u001b[1m00:0c:29:de:4e:98\u001b[0m\u001b[32m\u001b[1m\n",
      "     \u001b[33m\u001b[1mpsrc\u001b[0m\u001b[32m\u001b[1m      \u001b[31m=\u001b[0m\u001b[32m\u001b[1m \u001b[32m\u001b[1m192.168.35.128\u001b[0m\u001b[32m\u001b[1m\n",
      "     \u001b[33m\u001b[1mhwdst\u001b[0m\u001b[32m\u001b[1m     \u001b[31m=\u001b[0m\u001b[32m\u001b[1m \u001b[32m\u001b[1m00:00:00:00:00:00\u001b[0m\u001b[32m\u001b[1m\n",
      "     \u001b[33m\u001b[1mpdst\u001b[0m\u001b[32m\u001b[1m      \u001b[31m=\u001b[0m\u001b[32m\u001b[1m \u001b[32m\u001b[1m0.0.0.0\u001b[0m\u001b[32m\u001b[1m\n",
      "\n"
     ]
    }
   ],
   "source": [
    "arpPkt.show()"
   ]
  },
  {
   "cell_type": "code",
   "execution_count": 18,
   "metadata": {},
   "outputs": [],
   "source": [
    "# Change Ethernet protocol's destination field to broadcase MAC address\n",
    "arpPkt['Ethernet'].dst= 'FF:FF:FF:FF:FF:FF'"
   ]
  },
  {
   "cell_type": "code",
   "execution_count": 20,
   "metadata": {},
   "outputs": [
    {
     "name": "stdout",
     "output_type": "stream",
     "text": [
      "\u001b[31m###[\u001b[0m\u001b[32m\u001b[1m \u001b[31m\u001b[1mEthernet\u001b[0m\u001b[32m\u001b[1m \u001b[31m]###\u001b[0m\u001b[32m\u001b[1m\n",
      "  \u001b[33m\u001b[1mdst\u001b[0m\u001b[32m\u001b[1m       \u001b[31m=\u001b[0m\u001b[32m\u001b[1m \u001b[32m\u001b[1mFF:FF:FF:FF:FF:FF\u001b[0m\u001b[32m\u001b[1m\n",
      "  \u001b[33m\u001b[1msrc\u001b[0m\u001b[32m\u001b[1m       \u001b[31m=\u001b[0m\u001b[32m\u001b[1m \u001b[32m\u001b[1m00:0c:29:de:4e:98\u001b[0m\u001b[32m\u001b[1m\n",
      "  \u001b[33m\u001b[1mtype\u001b[0m\u001b[32m\u001b[1m      \u001b[31m=\u001b[0m\u001b[32m\u001b[1m \u001b[32m\u001b[1mARP\u001b[0m\u001b[32m\u001b[1m\n",
      "\u001b[31m###[\u001b[0m\u001b[32m\u001b[1m \u001b[31m\u001b[1mARP\u001b[0m\u001b[32m\u001b[1m \u001b[31m]###\u001b[0m\u001b[32m\u001b[1m\n",
      "     \u001b[33m\u001b[1mhwtype\u001b[0m\u001b[32m\u001b[1m    \u001b[31m=\u001b[0m\u001b[32m\u001b[1m \u001b[32m\u001b[1mEthernet (10Mb)\u001b[0m\u001b[32m\u001b[1m\n",
      "     \u001b[33m\u001b[1mptype\u001b[0m\u001b[32m\u001b[1m     \u001b[31m=\u001b[0m\u001b[32m\u001b[1m \u001b[32m\u001b[1mIPv4\u001b[0m\u001b[32m\u001b[1m\n",
      "     \u001b[33m\u001b[1mhwlen\u001b[0m\u001b[32m\u001b[1m     \u001b[31m=\u001b[0m\u001b[32m\u001b[1m \u001b[32m\u001b[1mNone\u001b[0m\u001b[32m\u001b[1m\n",
      "     \u001b[33m\u001b[1mplen\u001b[0m\u001b[32m\u001b[1m      \u001b[31m=\u001b[0m\u001b[32m\u001b[1m \u001b[32m\u001b[1mNone\u001b[0m\u001b[32m\u001b[1m\n",
      "     \u001b[33m\u001b[1mop\u001b[0m\u001b[32m\u001b[1m        \u001b[31m=\u001b[0m\u001b[32m\u001b[1m \u001b[32m\u001b[1mwho-has\u001b[0m\u001b[32m\u001b[1m\n",
      "     \u001b[33m\u001b[1mhwsrc\u001b[0m\u001b[32m\u001b[1m     \u001b[31m=\u001b[0m\u001b[32m\u001b[1m \u001b[32m\u001b[1m00:0c:29:de:4e:98\u001b[0m\u001b[32m\u001b[1m\n",
      "     \u001b[33m\u001b[1mpsrc\u001b[0m\u001b[32m\u001b[1m      \u001b[31m=\u001b[0m\u001b[32m\u001b[1m \u001b[32m\u001b[1m192.168.35.128\u001b[0m\u001b[32m\u001b[1m\n",
      "     \u001b[33m\u001b[1mhwdst\u001b[0m\u001b[32m\u001b[1m     \u001b[31m=\u001b[0m\u001b[32m\u001b[1m \u001b[32m\u001b[1m00:00:00:00:00:00\u001b[0m\u001b[32m\u001b[1m\n",
      "     \u001b[33m\u001b[1mpdst\u001b[0m\u001b[32m\u001b[1m      \u001b[31m=\u001b[0m\u001b[32m\u001b[1m \u001b[32m\u001b[1m0.0.0.0\u001b[0m\u001b[32m\u001b[1m\n",
      "\n"
     ]
    }
   ],
   "source": [
    "arpPkt.show()"
   ]
  },
  {
   "cell_type": "code",
   "execution_count": 21,
   "metadata": {},
   "outputs": [],
   "source": [
    "# change ARP protocol's hwdst to broadcast MAC address\n",
    "#arpPkt['Ethernet']['ARP'].hwdst = 'FF:FF:FF:FF:FF:FF'\n",
    "arpPkt['ARP'].hwdst = 'FF:FF:FF:FF:FF:FF'"
   ]
  },
  {
   "cell_type": "code",
   "execution_count": 23,
   "metadata": {},
   "outputs": [
    {
     "name": "stdout",
     "output_type": "stream",
     "text": [
      "Address                  HWtype  HWaddress           Flags Mask            Iface\n",
      "192.168.35.254           ether   00:50:56:f0:96:f0   C                     eth0\n",
      "192.168.35.2             ether   00:50:56:ff:0f:b0   C                     eth0\n"
     ]
    }
   ],
   "source": [
    "! arp -n"
   ]
  },
  {
   "cell_type": "code",
   "execution_count": 22,
   "metadata": {},
   "outputs": [
    {
     "name": "stdout",
     "output_type": "stream",
     "text": [
      "\u001b[31m###[\u001b[0m\u001b[32m\u001b[1m \u001b[31m\u001b[1mEthernet\u001b[0m\u001b[32m\u001b[1m \u001b[31m]###\u001b[0m\u001b[32m\u001b[1m\n",
      "  \u001b[33m\u001b[1mdst\u001b[0m\u001b[32m\u001b[1m       \u001b[31m=\u001b[0m\u001b[32m\u001b[1m \u001b[32m\u001b[1mFF:FF:FF:FF:FF:FF\u001b[0m\u001b[32m\u001b[1m\n",
      "  \u001b[33m\u001b[1msrc\u001b[0m\u001b[32m\u001b[1m       \u001b[31m=\u001b[0m\u001b[32m\u001b[1m \u001b[32m\u001b[1m00:0c:29:de:4e:98\u001b[0m\u001b[32m\u001b[1m\n",
      "  \u001b[33m\u001b[1mtype\u001b[0m\u001b[32m\u001b[1m      \u001b[31m=\u001b[0m\u001b[32m\u001b[1m \u001b[32m\u001b[1mARP\u001b[0m\u001b[32m\u001b[1m\n",
      "\u001b[31m###[\u001b[0m\u001b[32m\u001b[1m \u001b[31m\u001b[1mARP\u001b[0m\u001b[32m\u001b[1m \u001b[31m]###\u001b[0m\u001b[32m\u001b[1m\n",
      "     \u001b[33m\u001b[1mhwtype\u001b[0m\u001b[32m\u001b[1m    \u001b[31m=\u001b[0m\u001b[32m\u001b[1m \u001b[32m\u001b[1mEthernet (10Mb)\u001b[0m\u001b[32m\u001b[1m\n",
      "     \u001b[33m\u001b[1mptype\u001b[0m\u001b[32m\u001b[1m     \u001b[31m=\u001b[0m\u001b[32m\u001b[1m \u001b[32m\u001b[1mIPv4\u001b[0m\u001b[32m\u001b[1m\n",
      "     \u001b[33m\u001b[1mhwlen\u001b[0m\u001b[32m\u001b[1m     \u001b[31m=\u001b[0m\u001b[32m\u001b[1m \u001b[32m\u001b[1mNone\u001b[0m\u001b[32m\u001b[1m\n",
      "     \u001b[33m\u001b[1mplen\u001b[0m\u001b[32m\u001b[1m      \u001b[31m=\u001b[0m\u001b[32m\u001b[1m \u001b[32m\u001b[1mNone\u001b[0m\u001b[32m\u001b[1m\n",
      "     \u001b[33m\u001b[1mop\u001b[0m\u001b[32m\u001b[1m        \u001b[31m=\u001b[0m\u001b[32m\u001b[1m \u001b[32m\u001b[1mwho-has\u001b[0m\u001b[32m\u001b[1m\n",
      "     \u001b[33m\u001b[1mhwsrc\u001b[0m\u001b[32m\u001b[1m     \u001b[31m=\u001b[0m\u001b[32m\u001b[1m \u001b[32m\u001b[1m00:0c:29:de:4e:98\u001b[0m\u001b[32m\u001b[1m\n",
      "     \u001b[33m\u001b[1mpsrc\u001b[0m\u001b[32m\u001b[1m      \u001b[31m=\u001b[0m\u001b[32m\u001b[1m \u001b[32m\u001b[1m192.168.35.128\u001b[0m\u001b[32m\u001b[1m\n",
      "     \u001b[33m\u001b[1mhwdst\u001b[0m\u001b[32m\u001b[1m     \u001b[31m=\u001b[0m\u001b[32m\u001b[1m \u001b[32m\u001b[1mFF:FF:FF:FF:FF:FF\u001b[0m\u001b[32m\u001b[1m\n",
      "     \u001b[33m\u001b[1mpdst\u001b[0m\u001b[32m\u001b[1m      \u001b[31m=\u001b[0m\u001b[32m\u001b[1m \u001b[32m\u001b[1m0.0.0.0\u001b[0m\u001b[32m\u001b[1m\n",
      "\n"
     ]
    }
   ],
   "source": [
    "arpPkt.show()"
   ]
  },
  {
   "cell_type": "code",
   "execution_count": 24,
   "metadata": {},
   "outputs": [],
   "source": [
    "# change dest ip - use Metaploitable IP\n",
    "arpPkt['ARP'].pdst = '192.168.35.130'"
   ]
  },
  {
   "cell_type": "code",
   "execution_count": 25,
   "metadata": {},
   "outputs": [
    {
     "name": "stdout",
     "output_type": "stream",
     "text": [
      "\u001b[31m###[\u001b[0m\u001b[32m\u001b[1m \u001b[31m\u001b[1mEthernet\u001b[0m\u001b[32m\u001b[1m \u001b[31m]###\u001b[0m\u001b[32m\u001b[1m\n",
      "  \u001b[33m\u001b[1mdst\u001b[0m\u001b[32m\u001b[1m       \u001b[31m=\u001b[0m\u001b[32m\u001b[1m \u001b[32m\u001b[1mFF:FF:FF:FF:FF:FF\u001b[0m\u001b[32m\u001b[1m\n",
      "  \u001b[33m\u001b[1msrc\u001b[0m\u001b[32m\u001b[1m       \u001b[31m=\u001b[0m\u001b[32m\u001b[1m \u001b[32m\u001b[1m00:0c:29:de:4e:98\u001b[0m\u001b[32m\u001b[1m\n",
      "  \u001b[33m\u001b[1mtype\u001b[0m\u001b[32m\u001b[1m      \u001b[31m=\u001b[0m\u001b[32m\u001b[1m \u001b[32m\u001b[1mARP\u001b[0m\u001b[32m\u001b[1m\n",
      "\u001b[31m###[\u001b[0m\u001b[32m\u001b[1m \u001b[31m\u001b[1mARP\u001b[0m\u001b[32m\u001b[1m \u001b[31m]###\u001b[0m\u001b[32m\u001b[1m\n",
      "     \u001b[33m\u001b[1mhwtype\u001b[0m\u001b[32m\u001b[1m    \u001b[31m=\u001b[0m\u001b[32m\u001b[1m \u001b[32m\u001b[1mEthernet (10Mb)\u001b[0m\u001b[32m\u001b[1m\n",
      "     \u001b[33m\u001b[1mptype\u001b[0m\u001b[32m\u001b[1m     \u001b[31m=\u001b[0m\u001b[32m\u001b[1m \u001b[32m\u001b[1mIPv4\u001b[0m\u001b[32m\u001b[1m\n",
      "     \u001b[33m\u001b[1mhwlen\u001b[0m\u001b[32m\u001b[1m     \u001b[31m=\u001b[0m\u001b[32m\u001b[1m \u001b[32m\u001b[1mNone\u001b[0m\u001b[32m\u001b[1m\n",
      "     \u001b[33m\u001b[1mplen\u001b[0m\u001b[32m\u001b[1m      \u001b[31m=\u001b[0m\u001b[32m\u001b[1m \u001b[32m\u001b[1mNone\u001b[0m\u001b[32m\u001b[1m\n",
      "     \u001b[33m\u001b[1mop\u001b[0m\u001b[32m\u001b[1m        \u001b[31m=\u001b[0m\u001b[32m\u001b[1m \u001b[32m\u001b[1mwho-has\u001b[0m\u001b[32m\u001b[1m\n",
      "     \u001b[33m\u001b[1mhwsrc\u001b[0m\u001b[32m\u001b[1m     \u001b[31m=\u001b[0m\u001b[32m\u001b[1m \u001b[32m\u001b[1m00:0c:29:de:4e:98\u001b[0m\u001b[32m\u001b[1m\n",
      "     \u001b[33m\u001b[1mpsrc\u001b[0m\u001b[32m\u001b[1m      \u001b[31m=\u001b[0m\u001b[32m\u001b[1m \u001b[32m\u001b[1m192.168.35.128\u001b[0m\u001b[32m\u001b[1m\n",
      "     \u001b[33m\u001b[1mhwdst\u001b[0m\u001b[32m\u001b[1m     \u001b[31m=\u001b[0m\u001b[32m\u001b[1m \u001b[32m\u001b[1mFF:FF:FF:FF:FF:FF\u001b[0m\u001b[32m\u001b[1m\n",
      "     \u001b[33m\u001b[1mpdst\u001b[0m\u001b[32m\u001b[1m      \u001b[31m=\u001b[0m\u001b[32m\u001b[1m \u001b[32m\u001b[1m192.168.35.130\u001b[0m\u001b[32m\u001b[1m\n",
      "\n"
     ]
    }
   ],
   "source": [
    "arpPkt.show()"
   ]
  },
  {
   "cell_type": "markdown",
   "metadata": {},
   "source": [
    "## Capture packet using wireshark\n",
    "\n",
    "- ARP packet is ready to be sent\n",
    "- Makesure Ethernet source is selected\n",
    "- Open Wireshark and start capturing traffic\n",
    "- use arp filter to display only ARP packets"
   ]
  },
  {
   "cell_type": "markdown",
   "metadata": {},
   "source": [
    "# Send packets - one way\n",
    "- sendp() - works at layer two; can send ARP, Ethernet, etc.\n",
    "- send() - send packets at layer 3 (IP, TCP, HTTP, etc.); will handle routing and layer 2\n",
    "    - if return_packets=True is passed as parameter, these functions will also return received packes"
   ]
  },
  {
   "cell_type": "code",
   "execution_count": 26,
   "metadata": {},
   "outputs": [
    {
     "name": "stdout",
     "output_type": "stream",
     "text": [
      "Help on function send in module scapy.sendrecv:\n",
      "\n",
      "send(x, **kargs)\n",
      "    Send packets at layer 3\n",
      "\n",
      "    This determines the interface (or L2 source to use) based on the routing\n",
      "    table: conf.route / conf.route6\n",
      "\n",
      "    :param x: the packets\n",
      "    :param inter: time (in s) between two packets (default 0)\n",
      "    :param loop: send packet indefinitely (default 0)\n",
      "    :param count: number of packets to send (default None=1)\n",
      "    :param verbose: verbose mode (default None=conf.verb)\n",
      "    :param realtime: check that a packet was sent before sending the next one\n",
      "    :param return_packets: return the sent packets\n",
      "    :param socket: the socket to use (default is conf.L3socket(kargs))\n",
      "    :param monitor: (not on linux) send in monitor mode\n",
      "    :returns: None\n",
      "\n"
     ]
    }
   ],
   "source": [
    "help(send)"
   ]
  },
  {
   "cell_type": "code",
   "execution_count": 27,
   "metadata": {},
   "outputs": [
    {
     "name": "stdout",
     "output_type": "stream",
     "text": [
      "Help on function sendp in module scapy.sendrecv:\n",
      "\n",
      "sendp(x, iface=None, iface_hint=None, socket=None, **kargs)\n",
      "    Send packets at layer 2\n",
      "\n",
      "    :param x: the packets\n",
      "    :param inter: time (in s) between two packets (default 0)\n",
      "    :param loop: send packet indefinitely (default 0)\n",
      "    :param count: number of packets to send (default None=1)\n",
      "    :param verbose: verbose mode (default None=conf.verb)\n",
      "    :param realtime: check that a packet was sent before sending the next one\n",
      "    :param return_packets: return the sent packets\n",
      "    :param socket: the socket to use (default is conf.L3socket(kargs))\n",
      "    :param iface: the interface to send the packets on\n",
      "    :param monitor: (not on linux) send in monitor mode\n",
      "    :returns: None\n",
      "\n"
     ]
    }
   ],
   "source": [
    "help(sendp)"
   ]
  },
  {
   "cell_type": "code",
   "execution_count": 30,
   "metadata": {},
   "outputs": [
    {
     "name": "stdout",
     "output_type": "stream",
     "text": [
      "Address                  HWtype  HWaddress           Flags Mask            Iface\n",
      "192.168.35.254           ether   00:50:56:f0:96:f0   C                     eth0\n",
      "192.168.35.2             ether   00:50:56:ff:0f:b0   C                     eth0\n"
     ]
    }
   ],
   "source": [
    "! arp -n"
   ]
  },
  {
   "cell_type": "code",
   "execution_count": 28,
   "metadata": {},
   "outputs": [
    {
     "name": "stdout",
     "output_type": "stream",
     "text": [
      "\n",
      "Sent 1 packets.\n",
      "."
     ]
    }
   ],
   "source": [
    "# send the arpPkt - use sendp() because ARP is layer 2 packet\n",
    "sendp(arpPkt)"
   ]
  },
  {
   "cell_type": "code",
   "execution_count": 31,
   "metadata": {},
   "outputs": [
    {
     "name": "stdout",
     "output_type": "stream",
     "text": [
      "Begin emission\n",
      "\n",
      "Finished sending 1 packets\n",
      "\n",
      "Received 1 packets, got 1 answers, remaining 0 packets\n"
     ]
    }
   ],
   "source": [
    "response = srp1(arpPkt)"
   ]
  },
  {
   "cell_type": "code",
   "execution_count": 32,
   "metadata": {},
   "outputs": [
    {
     "name": "stdout",
     "output_type": "stream",
     "text": [
      "\u001b[31m###[\u001b[0m\u001b[32m\u001b[1m \u001b[31m\u001b[1mEthernet\u001b[0m\u001b[32m\u001b[1m \u001b[31m]###\u001b[0m\u001b[32m\u001b[1m\n",
      "  \u001b[33m\u001b[1mdst\u001b[0m\u001b[32m\u001b[1m       \u001b[31m=\u001b[0m\u001b[32m\u001b[1m \u001b[32m\u001b[1m00:0c:29:de:4e:98\u001b[0m\u001b[32m\u001b[1m\n",
      "  \u001b[33m\u001b[1msrc\u001b[0m\u001b[32m\u001b[1m       \u001b[31m=\u001b[0m\u001b[32m\u001b[1m \u001b[32m\u001b[1m00:0c:29:0b:ca:da\u001b[0m\u001b[32m\u001b[1m\n",
      "  \u001b[33m\u001b[1mtype\u001b[0m\u001b[32m\u001b[1m      \u001b[31m=\u001b[0m\u001b[32m\u001b[1m \u001b[32m\u001b[1mARP\u001b[0m\u001b[32m\u001b[1m\n",
      "\u001b[31m###[\u001b[0m\u001b[32m\u001b[1m \u001b[31m\u001b[1mARP\u001b[0m\u001b[32m\u001b[1m \u001b[31m]###\u001b[0m\u001b[32m\u001b[1m\n",
      "     \u001b[33m\u001b[1mhwtype\u001b[0m\u001b[32m\u001b[1m    \u001b[31m=\u001b[0m\u001b[32m\u001b[1m \u001b[32m\u001b[1mEthernet (10Mb)\u001b[0m\u001b[32m\u001b[1m\n",
      "     \u001b[33m\u001b[1mptype\u001b[0m\u001b[32m\u001b[1m     \u001b[31m=\u001b[0m\u001b[32m\u001b[1m \u001b[32m\u001b[1mIPv4\u001b[0m\u001b[32m\u001b[1m\n",
      "     \u001b[33m\u001b[1mhwlen\u001b[0m\u001b[32m\u001b[1m     \u001b[31m=\u001b[0m\u001b[32m\u001b[1m \u001b[32m\u001b[1m6\u001b[0m\u001b[32m\u001b[1m\n",
      "     \u001b[33m\u001b[1mplen\u001b[0m\u001b[32m\u001b[1m      \u001b[31m=\u001b[0m\u001b[32m\u001b[1m \u001b[32m\u001b[1m4\u001b[0m\u001b[32m\u001b[1m\n",
      "     \u001b[33m\u001b[1mop\u001b[0m\u001b[32m\u001b[1m        \u001b[31m=\u001b[0m\u001b[32m\u001b[1m \u001b[32m\u001b[1mis-at\u001b[0m\u001b[32m\u001b[1m\n",
      "     \u001b[33m\u001b[1mhwsrc\u001b[0m\u001b[32m\u001b[1m     \u001b[31m=\u001b[0m\u001b[32m\u001b[1m \u001b[32m\u001b[1m00:0c:29:0b:ca:da\u001b[0m\u001b[32m\u001b[1m\n",
      "     \u001b[33m\u001b[1mpsrc\u001b[0m\u001b[32m\u001b[1m      \u001b[31m=\u001b[0m\u001b[32m\u001b[1m \u001b[32m\u001b[1m192.168.35.130\u001b[0m\u001b[32m\u001b[1m\n",
      "     \u001b[33m\u001b[1mhwdst\u001b[0m\u001b[32m\u001b[1m     \u001b[31m=\u001b[0m\u001b[32m\u001b[1m \u001b[32m\u001b[1m00:0c:29:de:4e:98\u001b[0m\u001b[32m\u001b[1m\n",
      "     \u001b[33m\u001b[1mpdst\u001b[0m\u001b[32m\u001b[1m      \u001b[31m=\u001b[0m\u001b[32m\u001b[1m \u001b[32m\u001b[1m192.168.35.128\u001b[0m\u001b[32m\u001b[1m\n",
      "\u001b[31m###[\u001b[0m\u001b[32m\u001b[1m \u001b[31m\u001b[1mPadding\u001b[0m\u001b[32m\u001b[1m \u001b[31m]###\u001b[0m\u001b[32m\u001b[1m\n",
      "        \u001b[33m\u001b[1mload\u001b[0m\u001b[32m\u001b[1m      \u001b[31m=\u001b[0m\u001b[32m\u001b[1m \u001b[32m\u001b[1mb'\\x00\\x00\\x00\\x00\\x00\\x00\\x00\\x00\\x00\\x00\\x00\\x00\\x00\\x00\\x00\\x00\\x00\\x00'\u001b[0m\u001b[32m\u001b[1m\n",
      "\n"
     ]
    }
   ],
   "source": [
    "response.show()"
   ]
  },
  {
   "cell_type": "code",
   "execution_count": 33,
   "metadata": {},
   "outputs": [
    {
     "name": "stdout",
     "output_type": "stream",
     "text": [
      "Address                  HWtype  HWaddress           Flags Mask            Iface\n",
      "192.168.35.254           ether   00:50:56:f0:96:f0   C                     eth0\n",
      "192.168.35.2             ether   00:50:56:ff:0f:b0   C                     eth0\n"
     ]
    }
   ],
   "source": [
    "# doesn't show IP just with ARP\n",
    "! arp -n"
   ]
  },
  {
   "cell_type": "code",
   "execution_count": 34,
   "metadata": {},
   "outputs": [
    {
     "name": "stdout",
     "output_type": "stream",
     "text": [
      ".\n",
      "Sent 1 packets.\n"
     ]
    }
   ],
   "source": [
    "# one liner\n",
    "sendp(Ether(dst=\"ff:ff:ff:ff:ff:ff\",src=\"00:11:22:aa:bb:cc\")/ARP(hwsrc=\"00:11:22:aa:bb:cc\",pdst=\"192.168.231.2\"))"
   ]
  },
  {
   "cell_type": "markdown",
   "metadata": {},
   "source": [
    "## Sending HTTP request\n",
    "\n",
    "- run a simple Flask Hello World Web app on another VM\n",
    "- see `demos/FlaskWebApp` folder\n",
    "- follow the instructions in README"
   ]
  },
  {
   "cell_type": "code",
   "execution_count": 49,
   "metadata": {},
   "outputs": [],
   "source": [
    "# Metaploitable runs http server on port 80\n",
    "# Most real-world websites use 443\n",
    "\n",
    "httpPkt = IP(dst=\"192.168.35.130\")/TCP(dport=5000)/\"GET /index.html HTTP/1.0\\n\\n\""
   ]
  },
  {
   "cell_type": "code",
   "execution_count": 50,
   "metadata": {},
   "outputs": [
    {
     "data": {
      "text/plain": [
       "b'E\\x00\\x00B\\x00\\x01\\x00\\x00@\\x06\\xb2b\\xc0\\xa8#\\x80\\xc0\\xa8#\\x82\\x00\\x14\\x13\\x88\\x00\\x00\\x00\\x00\\x00\\x00\\x00\\x00P\\x02 \\x00\\x02(\\x00\\x00GET /index.html HTTP/1.0\\n\\n'"
      ]
     },
     "execution_count": 50,
     "metadata": {},
     "output_type": "execute_result"
    }
   ],
   "source": [
    "bytes(httpPkt)"
   ]
  },
  {
   "cell_type": "code",
   "execution_count": 51,
   "metadata": {},
   "outputs": [
    {
     "name": "stdout",
     "output_type": "stream",
     "text": [
      "0000  45 00 00 42 00 01 00 00 40 06 B2 62 C0 A8 23 80  E\u001b[32m.\u001b[0m\u001b[32m\u001b[1m\u001b[32m.\u001b[0m\u001b[32m\u001b[1mB\u001b[32m.\u001b[0m\u001b[32m\u001b[1m\u001b[32m.\u001b[0m\u001b[32m\u001b[1m\u001b[32m.\u001b[0m\u001b[32m\u001b[1m\u001b[32m.\u001b[0m\u001b[32m\u001b[1m@\u001b[32m.\u001b[0m\u001b[32m\u001b[1m\u001b[32m.\u001b[0m\u001b[32m\u001b[1mb\u001b[32m.\u001b[0m\u001b[32m\u001b[1m\u001b[32m.\u001b[0m\u001b[32m\u001b[1m#\u001b[32m.\u001b[0m\u001b[32m\u001b[1m\n",
      "0010  C0 A8 23 82 00 14 13 88 00 00 00 00 00 00 00 00  \u001b[32m.\u001b[0m\u001b[32m\u001b[1m\u001b[32m.\u001b[0m\u001b[32m\u001b[1m#\u001b[32m.\u001b[0m\u001b[32m\u001b[1m\u001b[32m.\u001b[0m\u001b[32m\u001b[1m\u001b[32m.\u001b[0m\u001b[32m\u001b[1m\u001b[32m.\u001b[0m\u001b[32m\u001b[1m\u001b[32m.\u001b[0m\u001b[32m\u001b[1m\u001b[32m.\u001b[0m\u001b[32m\u001b[1m\u001b[32m.\u001b[0m\u001b[32m\u001b[1m\u001b[32m.\u001b[0m\u001b[32m\u001b[1m\u001b[32m.\u001b[0m\u001b[32m\u001b[1m\u001b[32m.\u001b[0m\u001b[32m\u001b[1m\u001b[32m.\u001b[0m\u001b[32m\u001b[1m\u001b[32m.\u001b[0m\u001b[32m\u001b[1m\u001b[32m.\u001b[0m\u001b[32m\u001b[1m\n",
      "0020  50 02 20 00 02 28 00 00 47 45 54 20 2F 69 6E 64  P\u001b[32m.\u001b[0m\u001b[32m\u001b[1m \u001b[32m.\u001b[0m\u001b[32m\u001b[1m\u001b[32m.\u001b[0m\u001b[32m\u001b[1m(\u001b[32m.\u001b[0m\u001b[32m\u001b[1m\u001b[32m.\u001b[0m\u001b[32m\u001b[1mGET /ind\n",
      "0030  65 78 2E 68 74 6D 6C 20 48 54 54 50 2F 31 2E 30  ex.html HTTP/1.0\n",
      "0040  0A 0A                                            \u001b[32m.\u001b[0m\u001b[32m\u001b[1m\u001b[32m.\u001b[0m\u001b[32m\u001b[1m\n"
     ]
    }
   ],
   "source": [
    "hexdump(httpPkt)"
   ]
  },
  {
   "cell_type": "code",
   "execution_count": 52,
   "metadata": {},
   "outputs": [
    {
     "name": "stdout",
     "output_type": "stream",
     "text": [
      "\u001b[31m###[\u001b[0m\u001b[32m\u001b[1m \u001b[31m\u001b[1mIP\u001b[0m\u001b[32m\u001b[1m \u001b[31m]###\u001b[0m\u001b[32m\u001b[1m\n",
      "  \u001b[33m\u001b[1mversion\u001b[0m\u001b[32m\u001b[1m   \u001b[31m=\u001b[0m\u001b[32m\u001b[1m \u001b[32m\u001b[1m4\u001b[0m\u001b[32m\u001b[1m\n",
      "  \u001b[33m\u001b[1mihl\u001b[0m\u001b[32m\u001b[1m       \u001b[31m=\u001b[0m\u001b[32m\u001b[1m \u001b[32m\u001b[1mNone\u001b[0m\u001b[32m\u001b[1m\n",
      "  \u001b[33m\u001b[1mtos\u001b[0m\u001b[32m\u001b[1m       \u001b[31m=\u001b[0m\u001b[32m\u001b[1m \u001b[32m\u001b[1m0x0\u001b[0m\u001b[32m\u001b[1m\n",
      "  \u001b[33m\u001b[1mlen\u001b[0m\u001b[32m\u001b[1m       \u001b[31m=\u001b[0m\u001b[32m\u001b[1m \u001b[32m\u001b[1mNone\u001b[0m\u001b[32m\u001b[1m\n",
      "  \u001b[33m\u001b[1mid\u001b[0m\u001b[32m\u001b[1m        \u001b[31m=\u001b[0m\u001b[32m\u001b[1m \u001b[32m\u001b[1m1\u001b[0m\u001b[32m\u001b[1m\n",
      "  \u001b[33m\u001b[1mflags\u001b[0m\u001b[32m\u001b[1m     \u001b[31m=\u001b[0m\u001b[32m\u001b[1m \u001b[32m\u001b[1m\u001b[0m\u001b[32m\u001b[1m\n",
      "  \u001b[33m\u001b[1mfrag\u001b[0m\u001b[32m\u001b[1m      \u001b[31m=\u001b[0m\u001b[32m\u001b[1m \u001b[32m\u001b[1m0\u001b[0m\u001b[32m\u001b[1m\n",
      "  \u001b[33m\u001b[1mttl\u001b[0m\u001b[32m\u001b[1m       \u001b[31m=\u001b[0m\u001b[32m\u001b[1m \u001b[32m\u001b[1m64\u001b[0m\u001b[32m\u001b[1m\n",
      "  \u001b[33m\u001b[1mproto\u001b[0m\u001b[32m\u001b[1m     \u001b[31m=\u001b[0m\u001b[32m\u001b[1m \u001b[32m\u001b[1mtcp\u001b[0m\u001b[32m\u001b[1m\n",
      "  \u001b[33m\u001b[1mchksum\u001b[0m\u001b[32m\u001b[1m    \u001b[31m=\u001b[0m\u001b[32m\u001b[1m \u001b[32m\u001b[1mNone\u001b[0m\u001b[32m\u001b[1m\n",
      "  \u001b[32msrc\u001b[0m\u001b[32m\u001b[1m       \u001b[31m=\u001b[0m\u001b[32m\u001b[1m \u001b[32m192.168.35.128\u001b[0m\u001b[32m\u001b[1m\n",
      "  \u001b[32mdst\u001b[0m\u001b[32m\u001b[1m       \u001b[31m=\u001b[0m\u001b[32m\u001b[1m \u001b[32m192.168.35.130\u001b[0m\u001b[32m\u001b[1m\n",
      "  \u001b[31m\\\u001b[0m\u001b[32m\u001b[1m\u001b[33m\u001b[1moptions\u001b[0m\u001b[32m\u001b[1m   \u001b[31m\\\u001b[0m\u001b[32m\u001b[1m\n",
      "\u001b[31m###[\u001b[0m\u001b[32m\u001b[1m \u001b[31m\u001b[1mTCP\u001b[0m\u001b[32m\u001b[1m \u001b[31m]###\u001b[0m\u001b[32m\u001b[1m\n",
      "     \u001b[33m\u001b[1msport\u001b[0m\u001b[32m\u001b[1m     \u001b[31m=\u001b[0m\u001b[32m\u001b[1m \u001b[32m\u001b[1mftp_data\u001b[0m\u001b[32m\u001b[1m\n",
      "     \u001b[33m\u001b[1mdport\u001b[0m\u001b[32m\u001b[1m     \u001b[31m=\u001b[0m\u001b[32m\u001b[1m \u001b[32m\u001b[1m5000\u001b[0m\u001b[32m\u001b[1m\n",
      "     \u001b[33m\u001b[1mseq\u001b[0m\u001b[32m\u001b[1m       \u001b[31m=\u001b[0m\u001b[32m\u001b[1m \u001b[32m\u001b[1m0\u001b[0m\u001b[32m\u001b[1m\n",
      "     \u001b[33m\u001b[1mack\u001b[0m\u001b[32m\u001b[1m       \u001b[31m=\u001b[0m\u001b[32m\u001b[1m \u001b[32m\u001b[1m0\u001b[0m\u001b[32m\u001b[1m\n",
      "     \u001b[33m\u001b[1mdataofs\u001b[0m\u001b[32m\u001b[1m   \u001b[31m=\u001b[0m\u001b[32m\u001b[1m \u001b[32m\u001b[1mNone\u001b[0m\u001b[32m\u001b[1m\n",
      "     \u001b[33m\u001b[1mreserved\u001b[0m\u001b[32m\u001b[1m  \u001b[31m=\u001b[0m\u001b[32m\u001b[1m \u001b[32m\u001b[1m0\u001b[0m\u001b[32m\u001b[1m\n",
      "     \u001b[33m\u001b[1mflags\u001b[0m\u001b[32m\u001b[1m     \u001b[31m=\u001b[0m\u001b[32m\u001b[1m \u001b[32m\u001b[1mS\u001b[0m\u001b[32m\u001b[1m\n",
      "     \u001b[33m\u001b[1mwindow\u001b[0m\u001b[32m\u001b[1m    \u001b[31m=\u001b[0m\u001b[32m\u001b[1m \u001b[32m\u001b[1m8192\u001b[0m\u001b[32m\u001b[1m\n",
      "     \u001b[33m\u001b[1mchksum\u001b[0m\u001b[32m\u001b[1m    \u001b[31m=\u001b[0m\u001b[32m\u001b[1m \u001b[32m\u001b[1mNone\u001b[0m\u001b[32m\u001b[1m\n",
      "     \u001b[33m\u001b[1murgptr\u001b[0m\u001b[32m\u001b[1m    \u001b[31m=\u001b[0m\u001b[32m\u001b[1m \u001b[32m\u001b[1m0\u001b[0m\u001b[32m\u001b[1m\n",
      "     \u001b[33m\u001b[1moptions\u001b[0m\u001b[32m\u001b[1m   \u001b[31m=\u001b[0m\u001b[32m\u001b[1m \u001b[32m\u001b[1m[]\u001b[0m\u001b[32m\u001b[1m\n",
      "\u001b[31m###[\u001b[0m\u001b[32m\u001b[1m \u001b[31m\u001b[1mRaw\u001b[0m\u001b[32m\u001b[1m \u001b[31m]###\u001b[0m\u001b[32m\u001b[1m\n",
      "        \u001b[33m\u001b[1mload\u001b[0m\u001b[32m\u001b[1m      \u001b[31m=\u001b[0m\u001b[32m\u001b[1m \u001b[32m\u001b[1mb'GET /index.html HTTP/1.0\\n\\n'\u001b[0m\u001b[32m\u001b[1m\n",
      "\n"
     ]
    }
   ],
   "source": [
    "httpPkt.show()"
   ]
  },
  {
   "cell_type": "markdown",
   "metadata": {},
   "source": [
    "## Send and Receive Packets\n",
    "- Send and receive functions are the heart of Scapy\n",
    "- sr() - send L3 packets and receive answers; returns answered and unanswered packets\n",
    "- sr1() - returns only one packet that answered the sent packet\n",
    "- sr() and sr1() functions can only send layer 3 L3 packets (IP, HTTP, etc.)\n",
    "- srp() - send and receive L2 packets (ARP, Ehternet, 802.3, etc)\n",
    "- srp1() - send and receive one layer 2 packet"
   ]
  },
  {
   "cell_type": "code",
   "execution_count": 53,
   "metadata": {
    "scrolled": true
   },
   "outputs": [
    {
     "name": "stdout",
     "output_type": "stream",
     "text": [
      "Begin emission\n",
      "\n",
      "Finished sending 1 packets\n",
      "\n",
      "Received 2 packets, got 1 answers, remaining 0 packets\n"
     ]
    }
   ],
   "source": [
    "response = sr(httpPkt)"
   ]
  },
  {
   "cell_type": "code",
   "execution_count": 55,
   "metadata": {},
   "outputs": [],
   "source": [
    "# get the answer tuple\n",
    "ans = response[0]"
   ]
  },
  {
   "cell_type": "code",
   "execution_count": 45,
   "metadata": {},
   "outputs": [
    {
     "name": "stdout",
     "output_type": "stream",
     "text": [
      "Help on SndRcvList in module scapy.plist object:\n",
      "\n",
      "class SndRcvList(_PacketList, scapy.base_classes.BasePacketList, scapy.base_classes._CanvasDumpExtended)\n",
      " |  SndRcvList(res=None, name='Results', stats=None)\n",
      " |\n",
      " |  Method resolution order:\n",
      " |      SndRcvList\n",
      " |      _PacketList\n",
      " |      scapy.base_classes.BasePacketList\n",
      " |      scapy.base_classes.Gen\n",
      " |      typing.Generic\n",
      " |      scapy.base_classes._CanvasDumpExtended\n",
      " |      builtins.object\n",
      " |\n",
      " |  Methods defined here:\n",
      " |\n",
      " |  __init__(self, res=None, name='Results', stats=None)\n",
      " |      create a packet list from a list of packets\n",
      " |      res: the list of packets\n",
      " |      stats: a list of classes that will appear in the stats (defaults to [TCP,UDP,ICMP])\n",
      " |\n",
      " |  ----------------------------------------------------------------------\n",
      " |  Data descriptors defined here:\n",
      " |\n",
      " |  __dict__\n",
      " |      dictionary for instance variables\n",
      " |\n",
      " |  __weakref__\n",
      " |      list of weak references to the object\n",
      " |\n",
      " |  ----------------------------------------------------------------------\n",
      " |  Data and other attributes defined here:\n",
      " |\n",
      " |  __annotations__ = {}\n",
      " |\n",
      " |  __orig_bases__ = (scapy.plist._PacketList[scapy.plist.QueryAnswer], sc...\n",
      " |\n",
      " |  __parameters__ = ()\n",
      " |\n",
      " |  ----------------------------------------------------------------------\n",
      " |  Methods inherited from _PacketList:\n",
      " |\n",
      " |  __add__(self, other)\n",
      " |      # Hinting hack: type self\n",
      " |\n",
      " |  __getattr__(self, attr)\n",
      " |\n",
      " |  __getitem__(self, item)\n",
      " |\n",
      " |  __getstate__(self)\n",
      " |      Creates a basic representation of the instance, used in\n",
      " |      conjunction with __setstate__() e.g. by pickle\n",
      " |\n",
      " |      :returns: dict representing this instance\n",
      " |\n",
      " |  __iter__(self)\n",
      " |\n",
      " |  __len__(self)\n",
      " |\n",
      " |  __repr__(self)\n",
      " |      Return repr(self).\n",
      " |\n",
      " |  __setstate__(self, state)\n",
      " |      Sets instance attributes to values given by state, used in\n",
      " |      conjunction with __getstate__() e.g. by pickle\n",
      " |\n",
      " |      :param state: dict representing this instance\n",
      " |\n",
      " |  afterglow(self, src=None, event=None, dst=None, **kargs)\n",
      " |      Experimental clone attempt of http://sourceforge.net/projects/afterglow\n",
      " |      each datum is reduced as src -> event -> dst and the data are graphed.\n",
      " |      by default we have IP.src -> IP.dport -> IP.dst\n",
      " |\n",
      " |  canvas_dump(self, layer_shift=0, rebuild=1)\n",
      " |\n",
      " |  conversations(self, getsrcdst=None, **kargs)\n",
      " |      Graphes a conversations between sources and destinations and display it\n",
      " |      (using graphviz and imagemagick)\n",
      " |\n",
      " |      :param getsrcdst: a function that takes an element of the list and\n",
      " |          returns the source, the destination and optionally\n",
      " |          a label. By default, returns the IP source and\n",
      " |          destination from IP and ARP layers\n",
      " |      :param type: output type (svg, ps, gif, jpg, etc.), passed to dot's\n",
      " |          \"-T\" option\n",
      " |      :param target: filename or redirect. Defaults pipe to Imagemagick's\n",
      " |          display program\n",
      " |      :param prog: which graphviz program to use\n",
      " |\n",
      " |  diffplot(self, f, delay=1, lfilter=None, **kargs)\n",
      " |      diffplot(f, delay=1, lfilter=None)\n",
      " |      Applies a function to couples (l[i],l[i+delay])\n",
      " |\n",
      " |      A list of matplotlib.lines.Line2D is returned.\n",
      " |\n",
      " |  filter(self, func)\n",
      " |      Returns a packet list filtered by a truth function. This truth\n",
      " |      function has to take a packet as the only argument and return\n",
      " |      a boolean value.\n",
      " |\n",
      " |  getlayer(self, cls, nb=None, flt=None, name=None, stats=None)\n",
      " |      Returns the packet list from a given layer.\n",
      " |\n",
      " |      See ``Packet.getlayer`` for more info.\n",
      " |\n",
      " |      :param cls: search for a layer that is an instance of ``cls``\n",
      " |      :type cls: Type[scapy.packet.Packet]\n",
      " |\n",
      " |      :param nb: return the nb^th layer that is an instance of ``cls``\n",
      " |      :type nb: Optional[int]\n",
      " |\n",
      " |      :param flt: filter parameters for ``Packet.getlayer``\n",
      " |      :type flt: Optional[Dict[str, Any]]\n",
      " |\n",
      " |      :param name: optional name for the new PacketList\n",
      " |      :type name: Optional[str]\n",
      " |\n",
      " |      :param stats: optional list of protocols to give stats on; if not\n",
      " |                    specified, inherits from this PacketList.\n",
      " |      :type stats: Optional[List[Type[scapy.packet.Packet]]]\n",
      " |      :rtype: scapy.plist.PacketList\n",
      " |\n",
      " |  hexdump(self, lfilter=None)\n",
      " |      Same as nsummary(), except that packets are also hexdumped\n",
      " |      lfilter: a truth function that decides whether a packet must be displayed\n",
      " |\n",
      " |  hexraw(self, lfilter=None)\n",
      " |      Same as nsummary(), except that if a packet has a Raw layer, it will be hexdumped  # noqa: E501\n",
      " |      lfilter: a truth function that decides whether a packet must be displayed\n",
      " |\n",
      " |  make_lined_table(self, *args, **kargs)\n",
      " |      Same as make_table, but print a table with lines\n",
      " |\n",
      " |  make_table(self, *args, **kargs)\n",
      " |      Prints a table using a function that returns for each packet its head column value, head row value and displayed value  # noqa: E501\n",
      " |      ex: p.make_table(lambda x:(x[IP].dst, x[TCP].dport, x[TCP].sprintf(\"%flags%\"))\n",
      " |\n",
      " |  make_tex_table(self, *args, **kargs)\n",
      " |      Same as make_table, but print a table with LaTeX syntax\n",
      " |\n",
      " |  multiplot(self, f, lfilter=None, plot_xy=False, **kargs)\n",
      " |      Uses a function that returns a label and a value for this label, then\n",
      " |      plots all the values label by label.\n",
      " |\n",
      " |      A list of matplotlib.lines.Line2D is returned.\n",
      " |\n",
      " |  nsummary(self, prn=None, lfilter=None)\n",
      " |      prints a summary of each packet with the packet's number\n",
      " |\n",
      " |      :param prn: function to apply to each packet instead of\n",
      " |                  lambda x:x.summary()\n",
      " |      :param lfilter: truth function to apply to each packet to decide\n",
      " |                      whether it will be displayed\n",
      " |\n",
      " |  nzpadding(self, lfilter=None)\n",
      " |      Same as padding() but only non null padding\n",
      " |\n",
      " |  padding(self, lfilter=None)\n",
      " |      Same as hexraw(), for Padding layer\n",
      " |\n",
      " |  plot(self, f, lfilter=None, plot_xy=False, **kargs)\n",
      " |      Applies a function to each packet to get a value that will be plotted\n",
      " |      with matplotlib. A list of matplotlib.lines.Line2D is returned.\n",
      " |\n",
      " |      lfilter: a truth function that decides whether a packet must be plotted\n",
      " |\n",
      " |  rawhexdump(self)\n",
      " |      Prints an hexadecimal dump of each packet in the list\n",
      " |\n",
      " |  replace(self, *args, **kargs)\n",
      " |      lst.replace(<field>,[<oldvalue>,]<newvalue>)\n",
      " |      lst.replace( (fld,[ov],nv),(fld,[ov,]nv),...)\n",
      " |        if ov is None, all values are replaced\n",
      " |      ex:\n",
      " |        lst.replace( IP.src, \"192.168.1.1\", \"10.0.0.1\" )\n",
      " |        lst.replace( IP.ttl, 64 )\n",
      " |        lst.replace( (IP.ttl, 64), (TCP.sport, 666, 777), )\n",
      " |\n",
      " |  sessions(self, session_extractor=None)\n",
      " |\n",
      " |  show(self, *args, **kargs)\n",
      " |      Best way to display the packet list. Defaults to nsummary() method\n",
      " |\n",
      " |  summary(self, prn=None, lfilter=None)\n",
      " |      prints a summary of each packet\n",
      " |\n",
      " |      :param prn: function to apply to each packet instead of\n",
      " |                  lambda x:x.summary()\n",
      " |      :param lfilter: truth function to apply to each packet to decide\n",
      " |                      whether it will be displayed\n",
      " |\n",
      " |  timeskew_graph = _packetlist_timeskew_graph(self, ip, **kargs) from scapy.layers.inet\n",
      " |      Tries to graph the timeskew between the timestamps and real time for a given ip\n",
      " |\n",
      " |  ----------------------------------------------------------------------\n",
      " |  Data descriptors inherited from _PacketList:\n",
      " |\n",
      " |  listname\n",
      " |\n",
      " |  res\n",
      " |\n",
      " |  stats\n",
      " |\n",
      " |  ----------------------------------------------------------------------\n",
      " |  Methods inherited from scapy.base_classes.Gen:\n",
      " |\n",
      " |  __iterlen__(self)\n",
      " |\n",
      " |  ----------------------------------------------------------------------\n",
      " |  Class methods inherited from typing.Generic:\n",
      " |\n",
      " |  __class_getitem__(...)\n",
      " |      Parameterizes a generic class.\n",
      " |\n",
      " |      At least, parameterizing a generic class is the *main* thing this\n",
      " |      method does. For example, for some generic class `Foo`, this is called\n",
      " |      when we do `Foo[int]` - there, with `cls=Foo` and `params=int`.\n",
      " |\n",
      " |      However, note that this method is also called when defining generic\n",
      " |      classes in the first place with `class Foo[T]: ...`.\n",
      " |\n",
      " |  __init_subclass__(...)\n",
      " |      Function to initialize subclasses.\n",
      " |\n",
      " |  ----------------------------------------------------------------------\n",
      " |  Methods inherited from scapy.base_classes._CanvasDumpExtended:\n",
      " |\n",
      " |  pdfdump(self, filename=None, **kargs)\n",
      " |      pdfdump(filename=None, layer_shift=0, rebuild=1)\n",
      " |\n",
      " |      Creates a PDF file describing a packet. If filename is not provided a\n",
      " |      temporary file is created and xpdf is called.\n",
      " |\n",
      " |      :param filename: the file's filename\n",
      " |\n",
      " |  psdump(self, filename=None, **kargs)\n",
      " |      psdump(filename=None, layer_shift=0, rebuild=1)\n",
      " |\n",
      " |      Creates an EPS file describing a packet. If filename is not provided a\n",
      " |      temporary file is created and gs is called.\n",
      " |\n",
      " |      :param filename: the file's filename\n",
      " |\n",
      " |  svgdump(self, filename=None, **kargs)\n",
      " |      svgdump(filename=None, layer_shift=0, rebuild=1)\n",
      " |\n",
      " |      Creates an SVG file describing a packet. If filename is not provided a\n",
      " |      temporary file is created and gs is called.\n",
      " |\n",
      " |      :param filename: the file's filename\n",
      "\n"
     ]
    }
   ],
   "source": [
    "help(ans)"
   ]
  },
  {
   "cell_type": "code",
   "execution_count": 56,
   "metadata": {},
   "outputs": [
    {
     "name": "stdout",
     "output_type": "stream",
     "text": [
      "\u001b[32m\u001b[1m0000\u001b[0m\u001b[32m\u001b[1m IP / TCP 192.168.35.128:ftp_data > 192.168.35.130:5000 S / Raw ==> IP / TCP 192.168.35.130:5000 > 192.168.35.128:ftp_data SA / Padding\n"
     ]
    }
   ],
   "source": [
    "ans.show()"
   ]
  },
  {
   "cell_type": "code",
   "execution_count": 57,
   "metadata": {},
   "outputs": [
    {
     "name": "stdout",
     "output_type": "stream",
     "text": [
      "QueryAnswer(query=\u001b[31m<\u001b[0m\u001b[32m\u001b[1m\u001b[31m\u001b[1mIP\u001b[0m\u001b[32m\u001b[1m  \u001b[33m\u001b[1mfrag\u001b[0m\u001b[32m\u001b[1m\u001b[31m=\u001b[0m\u001b[32m\u001b[1m\u001b[32m\u001b[1m0\u001b[0m\u001b[32m\u001b[1m \u001b[33m\u001b[1mproto\u001b[0m\u001b[32m\u001b[1m\u001b[31m=\u001b[0m\u001b[32m\u001b[1m\u001b[32m\u001b[1mtcp\u001b[0m\u001b[32m\u001b[1m \u001b[32mdst\u001b[0m\u001b[32m\u001b[1m\u001b[31m=\u001b[0m\u001b[32m\u001b[1m\u001b[32m192.168.35.130\u001b[0m\u001b[32m\u001b[1m \u001b[31m|\u001b[0m\u001b[32m\u001b[1m\u001b[31m<\u001b[0m\u001b[32m\u001b[1m\u001b[31m\u001b[1mTCP\u001b[0m\u001b[32m\u001b[1m  \u001b[33m\u001b[1mdport\u001b[0m\u001b[32m\u001b[1m\u001b[31m=\u001b[0m\u001b[32m\u001b[1m\u001b[32m\u001b[1m5000\u001b[0m\u001b[32m\u001b[1m \u001b[31m|\u001b[0m\u001b[32m\u001b[1m\u001b[31m<\u001b[0m\u001b[32m\u001b[1m\u001b[31m\u001b[1mRaw\u001b[0m\u001b[32m\u001b[1m  \u001b[33m\u001b[1mload\u001b[0m\u001b[32m\u001b[1m\u001b[31m=\u001b[0m\u001b[32m\u001b[1m\u001b[32m\u001b[1mb'GET /index.html HTTP/1.0\\n\\n'\u001b[0m\u001b[32m\u001b[1m \u001b[31m|\u001b[0m\u001b[32m\u001b[1m\u001b[31m>\u001b[0m\u001b[32m\u001b[1m\u001b[31m>\u001b[0m\u001b[32m\u001b[1m\u001b[31m>\u001b[0m\u001b[32m\u001b[1m, answer=\u001b[31m<\u001b[0m\u001b[32m\u001b[1m\u001b[31m\u001b[1mIP\u001b[0m\u001b[32m\u001b[1m  \u001b[33m\u001b[1mversion\u001b[0m\u001b[32m\u001b[1m\u001b[31m=\u001b[0m\u001b[32m\u001b[1m\u001b[32m\u001b[1m4\u001b[0m\u001b[32m\u001b[1m \u001b[33m\u001b[1mihl\u001b[0m\u001b[32m\u001b[1m\u001b[31m=\u001b[0m\u001b[32m\u001b[1m\u001b[32m\u001b[1m5\u001b[0m\u001b[32m\u001b[1m \u001b[33m\u001b[1mtos\u001b[0m\u001b[32m\u001b[1m\u001b[31m=\u001b[0m\u001b[32m\u001b[1m\u001b[32m\u001b[1m0x0\u001b[0m\u001b[32m\u001b[1m \u001b[33m\u001b[1mlen\u001b[0m\u001b[32m\u001b[1m\u001b[31m=\u001b[0m\u001b[32m\u001b[1m\u001b[32m\u001b[1m44\u001b[0m\u001b[32m\u001b[1m \u001b[33m\u001b[1mid\u001b[0m\u001b[32m\u001b[1m\u001b[31m=\u001b[0m\u001b[32m\u001b[1m\u001b[32m\u001b[1m0\u001b[0m\u001b[32m\u001b[1m \u001b[33m\u001b[1mflags\u001b[0m\u001b[32m\u001b[1m\u001b[31m=\u001b[0m\u001b[32m\u001b[1m\u001b[32m\u001b[1mDF\u001b[0m\u001b[32m\u001b[1m \u001b[33m\u001b[1mfrag\u001b[0m\u001b[32m\u001b[1m\u001b[31m=\u001b[0m\u001b[32m\u001b[1m\u001b[32m\u001b[1m0\u001b[0m\u001b[32m\u001b[1m \u001b[33m\u001b[1mttl\u001b[0m\u001b[32m\u001b[1m\u001b[31m=\u001b[0m\u001b[32m\u001b[1m\u001b[32m\u001b[1m64\u001b[0m\u001b[32m\u001b[1m \u001b[33m\u001b[1mproto\u001b[0m\u001b[32m\u001b[1m\u001b[31m=\u001b[0m\u001b[32m\u001b[1m\u001b[32m\u001b[1mtcp\u001b[0m\u001b[32m\u001b[1m \u001b[33m\u001b[1mchksum\u001b[0m\u001b[32m\u001b[1m\u001b[31m=\u001b[0m\u001b[32m\u001b[1m\u001b[32m\u001b[1m0x7279\u001b[0m\u001b[32m\u001b[1m \u001b[32msrc\u001b[0m\u001b[32m\u001b[1m\u001b[31m=\u001b[0m\u001b[32m\u001b[1m\u001b[32m192.168.35.130\u001b[0m\u001b[32m\u001b[1m \u001b[32mdst\u001b[0m\u001b[32m\u001b[1m\u001b[31m=\u001b[0m\u001b[32m\u001b[1m\u001b[32m192.168.35.128\u001b[0m\u001b[32m\u001b[1m \u001b[31m|\u001b[0m\u001b[32m\u001b[1m\u001b[31m<\u001b[0m\u001b[32m\u001b[1m\u001b[31m\u001b[1mTCP\u001b[0m\u001b[32m\u001b[1m  \u001b[33m\u001b[1msport\u001b[0m\u001b[32m\u001b[1m\u001b[31m=\u001b[0m\u001b[32m\u001b[1m\u001b[32m\u001b[1m5000\u001b[0m\u001b[32m\u001b[1m \u001b[33m\u001b[1mdport\u001b[0m\u001b[32m\u001b[1m\u001b[31m=\u001b[0m\u001b[32m\u001b[1m\u001b[32m\u001b[1mftp_data\u001b[0m\u001b[32m\u001b[1m \u001b[33m\u001b[1mseq\u001b[0m\u001b[32m\u001b[1m\u001b[31m=\u001b[0m\u001b[32m\u001b[1m\u001b[32m\u001b[1m2248820217\u001b[0m\u001b[32m\u001b[1m \u001b[33m\u001b[1mack\u001b[0m\u001b[32m\u001b[1m\u001b[31m=\u001b[0m\u001b[32m\u001b[1m\u001b[32m\u001b[1m1\u001b[0m\u001b[32m\u001b[1m \u001b[33m\u001b[1mdataofs\u001b[0m\u001b[32m\u001b[1m\u001b[31m=\u001b[0m\u001b[32m\u001b[1m\u001b[32m\u001b[1m6\u001b[0m\u001b[32m\u001b[1m \u001b[33m\u001b[1mreserved\u001b[0m\u001b[32m\u001b[1m\u001b[31m=\u001b[0m\u001b[32m\u001b[1m\u001b[32m\u001b[1m0\u001b[0m\u001b[32m\u001b[1m \u001b[33m\u001b[1mflags\u001b[0m\u001b[32m\u001b[1m\u001b[31m=\u001b[0m\u001b[32m\u001b[1m\u001b[32m\u001b[1mSA\u001b[0m\u001b[32m\u001b[1m \u001b[33m\u001b[1mwindow\u001b[0m\u001b[32m\u001b[1m\u001b[31m=\u001b[0m\u001b[32m\u001b[1m\u001b[32m\u001b[1m64240\u001b[0m\u001b[32m\u001b[1m \u001b[33m\u001b[1mchksum\u001b[0m\u001b[32m\u001b[1m\u001b[31m=\u001b[0m\u001b[32m\u001b[1m\u001b[32m\u001b[1m0xf531\u001b[0m\u001b[32m\u001b[1m \u001b[33m\u001b[1murgptr\u001b[0m\u001b[32m\u001b[1m\u001b[31m=\u001b[0m\u001b[32m\u001b[1m\u001b[32m\u001b[1m0\u001b[0m\u001b[32m\u001b[1m \u001b[33m\u001b[1moptions\u001b[0m\u001b[32m\u001b[1m\u001b[31m=\u001b[0m\u001b[32m\u001b[1m\u001b[32m\u001b[1m[('MSS', 1460)]\u001b[0m\u001b[32m\u001b[1m \u001b[31m|\u001b[0m\u001b[32m\u001b[1m\u001b[31m<\u001b[0m\u001b[32m\u001b[1m\u001b[31m\u001b[1mPadding\u001b[0m\u001b[32m\u001b[1m  \u001b[33m\u001b[1mload\u001b[0m\u001b[32m\u001b[1m\u001b[31m=\u001b[0m\u001b[32m\u001b[1m\u001b[32m\u001b[1mb'\\x00\\x00'\u001b[0m\u001b[32m\u001b[1m \u001b[31m|\u001b[0m\u001b[32m\u001b[1m\u001b[31m>\u001b[0m\u001b[32m\u001b[1m\u001b[31m>\u001b[0m\u001b[32m\u001b[1m\u001b[31m>\u001b[0m\u001b[32m\u001b[1m)\n"
     ]
    }
   ],
   "source": [
    "print(ans[0])"
   ]
  },
  {
   "cell_type": "code",
   "execution_count": 58,
   "metadata": {},
   "outputs": [
    {
     "data": {
      "text/plain": [
       "QueryAnswer(query=\u001b[31m<\u001b[0m\u001b[32m\u001b[1m\u001b[31m\u001b[1mIP\u001b[0m\u001b[32m\u001b[1m  \u001b[33m\u001b[1mfrag\u001b[0m\u001b[32m\u001b[1m\u001b[31m=\u001b[0m\u001b[32m\u001b[1m\u001b[32m\u001b[1m0\u001b[0m\u001b[32m\u001b[1m \u001b[33m\u001b[1mproto\u001b[0m\u001b[32m\u001b[1m\u001b[31m=\u001b[0m\u001b[32m\u001b[1m\u001b[32m\u001b[1mtcp\u001b[0m\u001b[32m\u001b[1m \u001b[32mdst\u001b[0m\u001b[32m\u001b[1m\u001b[31m=\u001b[0m\u001b[32m\u001b[1m\u001b[32m192.168.35.130\u001b[0m\u001b[32m\u001b[1m \u001b[31m|\u001b[0m\u001b[32m\u001b[1m\u001b[31m<\u001b[0m\u001b[32m\u001b[1m\u001b[31m\u001b[1mTCP\u001b[0m\u001b[32m\u001b[1m  \u001b[33m\u001b[1mdport\u001b[0m\u001b[32m\u001b[1m\u001b[31m=\u001b[0m\u001b[32m\u001b[1m\u001b[32m\u001b[1m5000\u001b[0m\u001b[32m\u001b[1m \u001b[31m|\u001b[0m\u001b[32m\u001b[1m\u001b[31m<\u001b[0m\u001b[32m\u001b[1m\u001b[31m\u001b[1mRaw\u001b[0m\u001b[32m\u001b[1m  \u001b[33m\u001b[1mload\u001b[0m\u001b[32m\u001b[1m\u001b[31m=\u001b[0m\u001b[32m\u001b[1m\u001b[32m\u001b[1mb'GET /index.html HTTP/1.0\\n\\n'\u001b[0m\u001b[32m\u001b[1m \u001b[31m|\u001b[0m\u001b[32m\u001b[1m\u001b[31m>\u001b[0m\u001b[32m\u001b[1m\u001b[31m>\u001b[0m\u001b[32m\u001b[1m\u001b[31m>\u001b[0m\u001b[32m\u001b[1m, answer=\u001b[31m<\u001b[0m\u001b[32m\u001b[1m\u001b[31m\u001b[1mIP\u001b[0m\u001b[32m\u001b[1m  \u001b[33m\u001b[1mversion\u001b[0m\u001b[32m\u001b[1m\u001b[31m=\u001b[0m\u001b[32m\u001b[1m\u001b[32m\u001b[1m4\u001b[0m\u001b[32m\u001b[1m \u001b[33m\u001b[1mihl\u001b[0m\u001b[32m\u001b[1m\u001b[31m=\u001b[0m\u001b[32m\u001b[1m\u001b[32m\u001b[1m5\u001b[0m\u001b[32m\u001b[1m \u001b[33m\u001b[1mtos\u001b[0m\u001b[32m\u001b[1m\u001b[31m=\u001b[0m\u001b[32m\u001b[1m\u001b[32m\u001b[1m0x0\u001b[0m\u001b[32m\u001b[1m \u001b[33m\u001b[1mlen\u001b[0m\u001b[32m\u001b[1m\u001b[31m=\u001b[0m\u001b[32m\u001b[1m\u001b[32m\u001b[1m44\u001b[0m\u001b[32m\u001b[1m \u001b[33m\u001b[1mid\u001b[0m\u001b[32m\u001b[1m\u001b[31m=\u001b[0m\u001b[32m\u001b[1m\u001b[32m\u001b[1m0\u001b[0m\u001b[32m\u001b[1m \u001b[33m\u001b[1mflags\u001b[0m\u001b[32m\u001b[1m\u001b[31m=\u001b[0m\u001b[32m\u001b[1m\u001b[32m\u001b[1mDF\u001b[0m\u001b[32m\u001b[1m \u001b[33m\u001b[1mfrag\u001b[0m\u001b[32m\u001b[1m\u001b[31m=\u001b[0m\u001b[32m\u001b[1m\u001b[32m\u001b[1m0\u001b[0m\u001b[32m\u001b[1m \u001b[33m\u001b[1mttl\u001b[0m\u001b[32m\u001b[1m\u001b[31m=\u001b[0m\u001b[32m\u001b[1m\u001b[32m\u001b[1m64\u001b[0m\u001b[32m\u001b[1m \u001b[33m\u001b[1mproto\u001b[0m\u001b[32m\u001b[1m\u001b[31m=\u001b[0m\u001b[32m\u001b[1m\u001b[32m\u001b[1mtcp\u001b[0m\u001b[32m\u001b[1m \u001b[33m\u001b[1mchksum\u001b[0m\u001b[32m\u001b[1m\u001b[31m=\u001b[0m\u001b[32m\u001b[1m\u001b[32m\u001b[1m0x7279\u001b[0m\u001b[32m\u001b[1m \u001b[32msrc\u001b[0m\u001b[32m\u001b[1m\u001b[31m=\u001b[0m\u001b[32m\u001b[1m\u001b[32m192.168.35.130\u001b[0m\u001b[32m\u001b[1m \u001b[32mdst\u001b[0m\u001b[32m\u001b[1m\u001b[31m=\u001b[0m\u001b[32m\u001b[1m\u001b[32m192.168.35.128\u001b[0m\u001b[32m\u001b[1m \u001b[31m|\u001b[0m\u001b[32m\u001b[1m\u001b[31m<\u001b[0m\u001b[32m\u001b[1m\u001b[31m\u001b[1mTCP\u001b[0m\u001b[32m\u001b[1m  \u001b[33m\u001b[1msport\u001b[0m\u001b[32m\u001b[1m\u001b[31m=\u001b[0m\u001b[32m\u001b[1m\u001b[32m\u001b[1m5000\u001b[0m\u001b[32m\u001b[1m \u001b[33m\u001b[1mdport\u001b[0m\u001b[32m\u001b[1m\u001b[31m=\u001b[0m\u001b[32m\u001b[1m\u001b[32m\u001b[1mftp_data\u001b[0m\u001b[32m\u001b[1m \u001b[33m\u001b[1mseq\u001b[0m\u001b[32m\u001b[1m\u001b[31m=\u001b[0m\u001b[32m\u001b[1m\u001b[32m\u001b[1m2248820217\u001b[0m\u001b[32m\u001b[1m \u001b[33m\u001b[1mack\u001b[0m\u001b[32m\u001b[1m\u001b[31m=\u001b[0m\u001b[32m\u001b[1m\u001b[32m\u001b[1m1\u001b[0m\u001b[32m\u001b[1m \u001b[33m\u001b[1mdataofs\u001b[0m\u001b[32m\u001b[1m\u001b[31m=\u001b[0m\u001b[32m\u001b[1m\u001b[32m\u001b[1m6\u001b[0m\u001b[32m\u001b[1m \u001b[33m\u001b[1mreserved\u001b[0m\u001b[32m\u001b[1m\u001b[31m=\u001b[0m\u001b[32m\u001b[1m\u001b[32m\u001b[1m0\u001b[0m\u001b[32m\u001b[1m \u001b[33m\u001b[1mflags\u001b[0m\u001b[32m\u001b[1m\u001b[31m=\u001b[0m\u001b[32m\u001b[1m\u001b[32m\u001b[1mSA\u001b[0m\u001b[32m\u001b[1m \u001b[33m\u001b[1mwindow\u001b[0m\u001b[32m\u001b[1m\u001b[31m=\u001b[0m\u001b[32m\u001b[1m\u001b[32m\u001b[1m64240\u001b[0m\u001b[32m\u001b[1m \u001b[33m\u001b[1mchksum\u001b[0m\u001b[32m\u001b[1m\u001b[31m=\u001b[0m\u001b[32m\u001b[1m\u001b[32m\u001b[1m0xf531\u001b[0m\u001b[32m\u001b[1m \u001b[33m\u001b[1murgptr\u001b[0m\u001b[32m\u001b[1m\u001b[31m=\u001b[0m\u001b[32m\u001b[1m\u001b[32m\u001b[1m0\u001b[0m\u001b[32m\u001b[1m \u001b[33m\u001b[1moptions\u001b[0m\u001b[32m\u001b[1m\u001b[31m=\u001b[0m\u001b[32m\u001b[1m\u001b[32m\u001b[1m[('MSS', 1460)]\u001b[0m\u001b[32m\u001b[1m \u001b[31m|\u001b[0m\u001b[32m\u001b[1m\u001b[31m<\u001b[0m\u001b[32m\u001b[1m\u001b[31m\u001b[1mPadding\u001b[0m\u001b[32m\u001b[1m  \u001b[33m\u001b[1mload\u001b[0m\u001b[32m\u001b[1m\u001b[31m=\u001b[0m\u001b[32m\u001b[1m\u001b[32m\u001b[1mb'\\x00\\x00'\u001b[0m\u001b[32m\u001b[1m \u001b[31m|\u001b[0m\u001b[32m\u001b[1m\u001b[31m>\u001b[0m\u001b[32m\u001b[1m\u001b[31m>\u001b[0m\u001b[32m\u001b[1m\u001b[31m>\u001b[0m\u001b[32m\u001b[1m)"
      ]
     },
     "execution_count": 58,
     "metadata": {},
     "output_type": "execute_result"
    }
   ],
   "source": [
    "ans[0]"
   ]
  },
  {
   "cell_type": "markdown",
   "metadata": {},
   "source": [
    "## TCP/IP full three-way handshake"
   ]
  },
  {
   "cell_type": "markdown",
   "metadata": {},
   "source": [
    "### send SYN packet"
   ]
  },
  {
   "cell_type": "code",
   "execution_count": 67,
   "metadata": {},
   "outputs": [],
   "source": [
    "# Create syn packet\n",
    "host = '192.168.35.130'\n",
    "port = 5000\n",
    "syn = IP(dst=f'{host}')/TCP(dport=port, flags='S')"
   ]
  },
  {
   "cell_type": "code",
   "execution_count": 68,
   "metadata": {},
   "outputs": [
    {
     "name": "stdout",
     "output_type": "stream",
     "text": [
      "\u001b[31m###[\u001b[0m\u001b[32m\u001b[1m \u001b[31m\u001b[1mIP\u001b[0m\u001b[32m\u001b[1m \u001b[31m]###\u001b[0m\u001b[32m\u001b[1m\n",
      "  \u001b[33m\u001b[1mversion\u001b[0m\u001b[32m\u001b[1m   \u001b[31m=\u001b[0m\u001b[32m\u001b[1m \u001b[32m\u001b[1m4\u001b[0m\u001b[32m\u001b[1m\n",
      "  \u001b[33m\u001b[1mihl\u001b[0m\u001b[32m\u001b[1m       \u001b[31m=\u001b[0m\u001b[32m\u001b[1m \u001b[32m\u001b[1mNone\u001b[0m\u001b[32m\u001b[1m\n",
      "  \u001b[33m\u001b[1mtos\u001b[0m\u001b[32m\u001b[1m       \u001b[31m=\u001b[0m\u001b[32m\u001b[1m \u001b[32m\u001b[1m0x0\u001b[0m\u001b[32m\u001b[1m\n",
      "  \u001b[33m\u001b[1mlen\u001b[0m\u001b[32m\u001b[1m       \u001b[31m=\u001b[0m\u001b[32m\u001b[1m \u001b[32m\u001b[1mNone\u001b[0m\u001b[32m\u001b[1m\n",
      "  \u001b[33m\u001b[1mid\u001b[0m\u001b[32m\u001b[1m        \u001b[31m=\u001b[0m\u001b[32m\u001b[1m \u001b[32m\u001b[1m1\u001b[0m\u001b[32m\u001b[1m\n",
      "  \u001b[33m\u001b[1mflags\u001b[0m\u001b[32m\u001b[1m     \u001b[31m=\u001b[0m\u001b[32m\u001b[1m \u001b[32m\u001b[1m\u001b[0m\u001b[32m\u001b[1m\n",
      "  \u001b[33m\u001b[1mfrag\u001b[0m\u001b[32m\u001b[1m      \u001b[31m=\u001b[0m\u001b[32m\u001b[1m \u001b[32m\u001b[1m0\u001b[0m\u001b[32m\u001b[1m\n",
      "  \u001b[33m\u001b[1mttl\u001b[0m\u001b[32m\u001b[1m       \u001b[31m=\u001b[0m\u001b[32m\u001b[1m \u001b[32m\u001b[1m64\u001b[0m\u001b[32m\u001b[1m\n",
      "  \u001b[33m\u001b[1mproto\u001b[0m\u001b[32m\u001b[1m     \u001b[31m=\u001b[0m\u001b[32m\u001b[1m \u001b[32m\u001b[1mtcp\u001b[0m\u001b[32m\u001b[1m\n",
      "  \u001b[33m\u001b[1mchksum\u001b[0m\u001b[32m\u001b[1m    \u001b[31m=\u001b[0m\u001b[32m\u001b[1m \u001b[32m\u001b[1mNone\u001b[0m\u001b[32m\u001b[1m\n",
      "  \u001b[32msrc\u001b[0m\u001b[32m\u001b[1m       \u001b[31m=\u001b[0m\u001b[32m\u001b[1m \u001b[32m192.168.35.128\u001b[0m\u001b[32m\u001b[1m\n",
      "  \u001b[32mdst\u001b[0m\u001b[32m\u001b[1m       \u001b[31m=\u001b[0m\u001b[32m\u001b[1m \u001b[32m192.168.35.130\u001b[0m\u001b[32m\u001b[1m\n",
      "  \u001b[31m\\\u001b[0m\u001b[32m\u001b[1m\u001b[33m\u001b[1moptions\u001b[0m\u001b[32m\u001b[1m   \u001b[31m\\\u001b[0m\u001b[32m\u001b[1m\n",
      "\u001b[31m###[\u001b[0m\u001b[32m\u001b[1m \u001b[31m\u001b[1mTCP\u001b[0m\u001b[32m\u001b[1m \u001b[31m]###\u001b[0m\u001b[32m\u001b[1m\n",
      "     \u001b[33m\u001b[1msport\u001b[0m\u001b[32m\u001b[1m     \u001b[31m=\u001b[0m\u001b[32m\u001b[1m \u001b[32m\u001b[1mftp_data\u001b[0m\u001b[32m\u001b[1m\n",
      "     \u001b[33m\u001b[1mdport\u001b[0m\u001b[32m\u001b[1m     \u001b[31m=\u001b[0m\u001b[32m\u001b[1m \u001b[32m\u001b[1m5000\u001b[0m\u001b[32m\u001b[1m\n",
      "     \u001b[33m\u001b[1mseq\u001b[0m\u001b[32m\u001b[1m       \u001b[31m=\u001b[0m\u001b[32m\u001b[1m \u001b[32m\u001b[1m0\u001b[0m\u001b[32m\u001b[1m\n",
      "     \u001b[33m\u001b[1mack\u001b[0m\u001b[32m\u001b[1m       \u001b[31m=\u001b[0m\u001b[32m\u001b[1m \u001b[32m\u001b[1m0\u001b[0m\u001b[32m\u001b[1m\n",
      "     \u001b[33m\u001b[1mdataofs\u001b[0m\u001b[32m\u001b[1m   \u001b[31m=\u001b[0m\u001b[32m\u001b[1m \u001b[32m\u001b[1mNone\u001b[0m\u001b[32m\u001b[1m\n",
      "     \u001b[33m\u001b[1mreserved\u001b[0m\u001b[32m\u001b[1m  \u001b[31m=\u001b[0m\u001b[32m\u001b[1m \u001b[32m\u001b[1m0\u001b[0m\u001b[32m\u001b[1m\n",
      "     \u001b[33m\u001b[1mflags\u001b[0m\u001b[32m\u001b[1m     \u001b[31m=\u001b[0m\u001b[32m\u001b[1m \u001b[32m\u001b[1mS\u001b[0m\u001b[32m\u001b[1m\n",
      "     \u001b[33m\u001b[1mwindow\u001b[0m\u001b[32m\u001b[1m    \u001b[31m=\u001b[0m\u001b[32m\u001b[1m \u001b[32m\u001b[1m8192\u001b[0m\u001b[32m\u001b[1m\n",
      "     \u001b[33m\u001b[1mchksum\u001b[0m\u001b[32m\u001b[1m    \u001b[31m=\u001b[0m\u001b[32m\u001b[1m \u001b[32m\u001b[1mNone\u001b[0m\u001b[32m\u001b[1m\n",
      "     \u001b[33m\u001b[1murgptr\u001b[0m\u001b[32m\u001b[1m    \u001b[31m=\u001b[0m\u001b[32m\u001b[1m \u001b[32m\u001b[1m0\u001b[0m\u001b[32m\u001b[1m\n",
      "     \u001b[33m\u001b[1moptions\u001b[0m\u001b[32m\u001b[1m   \u001b[31m=\u001b[0m\u001b[32m\u001b[1m \u001b[32m\u001b[1m[]\u001b[0m\u001b[32m\u001b[1m\n",
      "\n"
     ]
    }
   ],
   "source": [
    "syn.show()"
   ]
  },
  {
   "cell_type": "code",
   "execution_count": 69,
   "metadata": {},
   "outputs": [
    {
     "name": "stdout",
     "output_type": "stream",
     "text": [
      "Begin emission\n",
      "\n",
      "Finished sending 1 packets\n",
      "\n",
      "Received 1 packets, got 1 answers, remaining 0 packets\n"
     ]
    }
   ],
   "source": [
    "# Receive SYN-ACK packet\n",
    "syn_ack = sr1(syn)"
   ]
  },
  {
   "cell_type": "code",
   "execution_count": 70,
   "metadata": {},
   "outputs": [
    {
     "name": "stdout",
     "output_type": "stream",
     "text": [
      "\u001b[31m###[\u001b[0m\u001b[32m\u001b[1m \u001b[31m\u001b[1mIP\u001b[0m\u001b[32m\u001b[1m \u001b[31m]###\u001b[0m\u001b[32m\u001b[1m\n",
      "  \u001b[33m\u001b[1mversion\u001b[0m\u001b[32m\u001b[1m   \u001b[31m=\u001b[0m\u001b[32m\u001b[1m \u001b[32m\u001b[1m4\u001b[0m\u001b[32m\u001b[1m\n",
      "  \u001b[33m\u001b[1mihl\u001b[0m\u001b[32m\u001b[1m       \u001b[31m=\u001b[0m\u001b[32m\u001b[1m \u001b[32m\u001b[1m5\u001b[0m\u001b[32m\u001b[1m\n",
      "  \u001b[33m\u001b[1mtos\u001b[0m\u001b[32m\u001b[1m       \u001b[31m=\u001b[0m\u001b[32m\u001b[1m \u001b[32m\u001b[1m0x0\u001b[0m\u001b[32m\u001b[1m\n",
      "  \u001b[33m\u001b[1mlen\u001b[0m\u001b[32m\u001b[1m       \u001b[31m=\u001b[0m\u001b[32m\u001b[1m \u001b[32m\u001b[1m44\u001b[0m\u001b[32m\u001b[1m\n",
      "  \u001b[33m\u001b[1mid\u001b[0m\u001b[32m\u001b[1m        \u001b[31m=\u001b[0m\u001b[32m\u001b[1m \u001b[32m\u001b[1m0\u001b[0m\u001b[32m\u001b[1m\n",
      "  \u001b[33m\u001b[1mflags\u001b[0m\u001b[32m\u001b[1m     \u001b[31m=\u001b[0m\u001b[32m\u001b[1m \u001b[32m\u001b[1mDF\u001b[0m\u001b[32m\u001b[1m\n",
      "  \u001b[33m\u001b[1mfrag\u001b[0m\u001b[32m\u001b[1m      \u001b[31m=\u001b[0m\u001b[32m\u001b[1m \u001b[32m\u001b[1m0\u001b[0m\u001b[32m\u001b[1m\n",
      "  \u001b[33m\u001b[1mttl\u001b[0m\u001b[32m\u001b[1m       \u001b[31m=\u001b[0m\u001b[32m\u001b[1m \u001b[32m\u001b[1m64\u001b[0m\u001b[32m\u001b[1m\n",
      "  \u001b[33m\u001b[1mproto\u001b[0m\u001b[32m\u001b[1m     \u001b[31m=\u001b[0m\u001b[32m\u001b[1m \u001b[32m\u001b[1mtcp\u001b[0m\u001b[32m\u001b[1m\n",
      "  \u001b[33m\u001b[1mchksum\u001b[0m\u001b[32m\u001b[1m    \u001b[31m=\u001b[0m\u001b[32m\u001b[1m \u001b[32m\u001b[1m0x7279\u001b[0m\u001b[32m\u001b[1m\n",
      "  \u001b[32msrc\u001b[0m\u001b[32m\u001b[1m       \u001b[31m=\u001b[0m\u001b[32m\u001b[1m \u001b[32m192.168.35.130\u001b[0m\u001b[32m\u001b[1m\n",
      "  \u001b[32mdst\u001b[0m\u001b[32m\u001b[1m       \u001b[31m=\u001b[0m\u001b[32m\u001b[1m \u001b[32m192.168.35.128\u001b[0m\u001b[32m\u001b[1m\n",
      "  \u001b[31m\\\u001b[0m\u001b[32m\u001b[1m\u001b[33m\u001b[1moptions\u001b[0m\u001b[32m\u001b[1m   \u001b[31m\\\u001b[0m\u001b[32m\u001b[1m\n",
      "\u001b[31m###[\u001b[0m\u001b[32m\u001b[1m \u001b[31m\u001b[1mTCP\u001b[0m\u001b[32m\u001b[1m \u001b[31m]###\u001b[0m\u001b[32m\u001b[1m\n",
      "     \u001b[33m\u001b[1msport\u001b[0m\u001b[32m\u001b[1m     \u001b[31m=\u001b[0m\u001b[32m\u001b[1m \u001b[32m\u001b[1m5000\u001b[0m\u001b[32m\u001b[1m\n",
      "     \u001b[33m\u001b[1mdport\u001b[0m\u001b[32m\u001b[1m     \u001b[31m=\u001b[0m\u001b[32m\u001b[1m \u001b[32m\u001b[1mftp_data\u001b[0m\u001b[32m\u001b[1m\n",
      "     \u001b[33m\u001b[1mseq\u001b[0m\u001b[32m\u001b[1m       \u001b[31m=\u001b[0m\u001b[32m\u001b[1m \u001b[32m\u001b[1m1426801162\u001b[0m\u001b[32m\u001b[1m\n",
      "     \u001b[33m\u001b[1mack\u001b[0m\u001b[32m\u001b[1m       \u001b[31m=\u001b[0m\u001b[32m\u001b[1m \u001b[32m\u001b[1m1\u001b[0m\u001b[32m\u001b[1m\n",
      "     \u001b[33m\u001b[1mdataofs\u001b[0m\u001b[32m\u001b[1m   \u001b[31m=\u001b[0m\u001b[32m\u001b[1m \u001b[32m\u001b[1m6\u001b[0m\u001b[32m\u001b[1m\n",
      "     \u001b[33m\u001b[1mreserved\u001b[0m\u001b[32m\u001b[1m  \u001b[31m=\u001b[0m\u001b[32m\u001b[1m \u001b[32m\u001b[1m0\u001b[0m\u001b[32m\u001b[1m\n",
      "     \u001b[33m\u001b[1mflags\u001b[0m\u001b[32m\u001b[1m     \u001b[31m=\u001b[0m\u001b[32m\u001b[1m \u001b[32m\u001b[1mSA\u001b[0m\u001b[32m\u001b[1m\n",
      "     \u001b[33m\u001b[1mwindow\u001b[0m\u001b[32m\u001b[1m    \u001b[31m=\u001b[0m\u001b[32m\u001b[1m \u001b[32m\u001b[1m64240\u001b[0m\u001b[32m\u001b[1m\n",
      "     \u001b[33m\u001b[1mchksum\u001b[0m\u001b[32m\u001b[1m    \u001b[31m=\u001b[0m\u001b[32m\u001b[1m \u001b[32m\u001b[1m0x2a20\u001b[0m\u001b[32m\u001b[1m\n",
      "     \u001b[33m\u001b[1murgptr\u001b[0m\u001b[32m\u001b[1m    \u001b[31m=\u001b[0m\u001b[32m\u001b[1m \u001b[32m\u001b[1m0\u001b[0m\u001b[32m\u001b[1m\n",
      "     \u001b[33m\u001b[1moptions\u001b[0m\u001b[32m\u001b[1m   \u001b[31m=\u001b[0m\u001b[32m\u001b[1m \u001b[32m\u001b[1m[('MSS', 1460)]\u001b[0m\u001b[32m\u001b[1m\n",
      "\u001b[31m###[\u001b[0m\u001b[32m\u001b[1m \u001b[31m\u001b[1mPadding\u001b[0m\u001b[32m\u001b[1m \u001b[31m]###\u001b[0m\u001b[32m\u001b[1m\n",
      "        \u001b[33m\u001b[1mload\u001b[0m\u001b[32m\u001b[1m      \u001b[31m=\u001b[0m\u001b[32m\u001b[1m \u001b[32m\u001b[1mb'\\x00\\x00'\u001b[0m\u001b[32m\u001b[1m\n",
      "\n"
     ]
    }
   ],
   "source": [
    "syn_ack.show()"
   ]
  },
  {
   "cell_type": "code",
   "execution_count": null,
   "metadata": {},
   "outputs": [],
   "source": [
    "# Send Get request; dosn't work but you get the gist of what should be happening\n",
    "getStr = f'GET / HTTP1.1\\r\\nHost:{host}\\r\\n\\r\\n'\n",
    "request = IP(dst=f'{host}') / TCP(dport=port, sport=syn_ack[TCP].dport, \n",
    "                                        seq=syn_ack[TCP].ack, ack=syn_ack[TCP].seq+1, \n",
    "                                        flags='A') / getStr"
   ]
  },
  {
   "cell_type": "code",
   "execution_count": 72,
   "metadata": {},
   "outputs": [
    {
     "name": "stdout",
     "output_type": "stream",
     "text": [
      "\u001b[31m###[\u001b[0m\u001b[32m\u001b[1m \u001b[31m\u001b[1mIP\u001b[0m\u001b[32m\u001b[1m \u001b[31m]###\u001b[0m\u001b[32m\u001b[1m\n",
      "  \u001b[33m\u001b[1mversion\u001b[0m\u001b[32m\u001b[1m   \u001b[31m=\u001b[0m\u001b[32m\u001b[1m \u001b[32m\u001b[1m4\u001b[0m\u001b[32m\u001b[1m\n",
      "  \u001b[33m\u001b[1mihl\u001b[0m\u001b[32m\u001b[1m       \u001b[31m=\u001b[0m\u001b[32m\u001b[1m \u001b[32m\u001b[1mNone\u001b[0m\u001b[32m\u001b[1m\n",
      "  \u001b[33m\u001b[1mtos\u001b[0m\u001b[32m\u001b[1m       \u001b[31m=\u001b[0m\u001b[32m\u001b[1m \u001b[32m\u001b[1m0x0\u001b[0m\u001b[32m\u001b[1m\n",
      "  \u001b[33m\u001b[1mlen\u001b[0m\u001b[32m\u001b[1m       \u001b[31m=\u001b[0m\u001b[32m\u001b[1m \u001b[32m\u001b[1mNone\u001b[0m\u001b[32m\u001b[1m\n",
      "  \u001b[33m\u001b[1mid\u001b[0m\u001b[32m\u001b[1m        \u001b[31m=\u001b[0m\u001b[32m\u001b[1m \u001b[32m\u001b[1m1\u001b[0m\u001b[32m\u001b[1m\n",
      "  \u001b[33m\u001b[1mflags\u001b[0m\u001b[32m\u001b[1m     \u001b[31m=\u001b[0m\u001b[32m\u001b[1m \u001b[32m\u001b[1m\u001b[0m\u001b[32m\u001b[1m\n",
      "  \u001b[33m\u001b[1mfrag\u001b[0m\u001b[32m\u001b[1m      \u001b[31m=\u001b[0m\u001b[32m\u001b[1m \u001b[32m\u001b[1m0\u001b[0m\u001b[32m\u001b[1m\n",
      "  \u001b[33m\u001b[1mttl\u001b[0m\u001b[32m\u001b[1m       \u001b[31m=\u001b[0m\u001b[32m\u001b[1m \u001b[32m\u001b[1m64\u001b[0m\u001b[32m\u001b[1m\n",
      "  \u001b[33m\u001b[1mproto\u001b[0m\u001b[32m\u001b[1m     \u001b[31m=\u001b[0m\u001b[32m\u001b[1m \u001b[32m\u001b[1mtcp\u001b[0m\u001b[32m\u001b[1m\n",
      "  \u001b[33m\u001b[1mchksum\u001b[0m\u001b[32m\u001b[1m    \u001b[31m=\u001b[0m\u001b[32m\u001b[1m \u001b[32m\u001b[1mNone\u001b[0m\u001b[32m\u001b[1m\n",
      "  \u001b[32msrc\u001b[0m\u001b[32m\u001b[1m       \u001b[31m=\u001b[0m\u001b[32m\u001b[1m \u001b[32m192.168.35.128\u001b[0m\u001b[32m\u001b[1m\n",
      "  \u001b[32mdst\u001b[0m\u001b[32m\u001b[1m       \u001b[31m=\u001b[0m\u001b[32m\u001b[1m \u001b[32m192.168.35.130\u001b[0m\u001b[32m\u001b[1m\n",
      "  \u001b[31m\\\u001b[0m\u001b[32m\u001b[1m\u001b[33m\u001b[1moptions\u001b[0m\u001b[32m\u001b[1m   \u001b[31m\\\u001b[0m\u001b[32m\u001b[1m\n",
      "\u001b[31m###[\u001b[0m\u001b[32m\u001b[1m \u001b[31m\u001b[1mTCP\u001b[0m\u001b[32m\u001b[1m \u001b[31m]###\u001b[0m\u001b[32m\u001b[1m\n",
      "     \u001b[33m\u001b[1msport\u001b[0m\u001b[32m\u001b[1m     \u001b[31m=\u001b[0m\u001b[32m\u001b[1m \u001b[32m\u001b[1mftp_data\u001b[0m\u001b[32m\u001b[1m\n",
      "     \u001b[33m\u001b[1mdport\u001b[0m\u001b[32m\u001b[1m     \u001b[31m=\u001b[0m\u001b[32m\u001b[1m \u001b[32m\u001b[1m5000\u001b[0m\u001b[32m\u001b[1m\n",
      "     \u001b[33m\u001b[1mseq\u001b[0m\u001b[32m\u001b[1m       \u001b[31m=\u001b[0m\u001b[32m\u001b[1m \u001b[32m\u001b[1m1\u001b[0m\u001b[32m\u001b[1m\n",
      "     \u001b[33m\u001b[1mack\u001b[0m\u001b[32m\u001b[1m       \u001b[31m=\u001b[0m\u001b[32m\u001b[1m \u001b[32m\u001b[1m1426801163\u001b[0m\u001b[32m\u001b[1m\n",
      "     \u001b[33m\u001b[1mdataofs\u001b[0m\u001b[32m\u001b[1m   \u001b[31m=\u001b[0m\u001b[32m\u001b[1m \u001b[32m\u001b[1mNone\u001b[0m\u001b[32m\u001b[1m\n",
      "     \u001b[33m\u001b[1mreserved\u001b[0m\u001b[32m\u001b[1m  \u001b[31m=\u001b[0m\u001b[32m\u001b[1m \u001b[32m\u001b[1m0\u001b[0m\u001b[32m\u001b[1m\n",
      "     \u001b[33m\u001b[1mflags\u001b[0m\u001b[32m\u001b[1m     \u001b[31m=\u001b[0m\u001b[32m\u001b[1m \u001b[32m\u001b[1mA\u001b[0m\u001b[32m\u001b[1m\n",
      "     \u001b[33m\u001b[1mwindow\u001b[0m\u001b[32m\u001b[1m    \u001b[31m=\u001b[0m\u001b[32m\u001b[1m \u001b[32m\u001b[1m8192\u001b[0m\u001b[32m\u001b[1m\n",
      "     \u001b[33m\u001b[1mchksum\u001b[0m\u001b[32m\u001b[1m    \u001b[31m=\u001b[0m\u001b[32m\u001b[1m \u001b[32m\u001b[1mNone\u001b[0m\u001b[32m\u001b[1m\n",
      "     \u001b[33m\u001b[1murgptr\u001b[0m\u001b[32m\u001b[1m    \u001b[31m=\u001b[0m\u001b[32m\u001b[1m \u001b[32m\u001b[1m0\u001b[0m\u001b[32m\u001b[1m\n",
      "     \u001b[33m\u001b[1moptions\u001b[0m\u001b[32m\u001b[1m   \u001b[31m=\u001b[0m\u001b[32m\u001b[1m \u001b[32m\u001b[1m[]\u001b[0m\u001b[32m\u001b[1m\n",
      "\u001b[31m###[\u001b[0m\u001b[32m\u001b[1m \u001b[31m\u001b[1mRaw\u001b[0m\u001b[32m\u001b[1m \u001b[31m]###\u001b[0m\u001b[32m\u001b[1m\n",
      "        \u001b[33m\u001b[1mload\u001b[0m\u001b[32m\u001b[1m      \u001b[31m=\u001b[0m\u001b[32m\u001b[1m \u001b[32m\u001b[1mb'GET / HTTP1.1\\r\\nHost:192.168.35.130\\r\\n\\r\\n'\u001b[0m\u001b[32m\u001b[1m\n",
      "\n"
     ]
    }
   ],
   "source": [
    "request.show()"
   ]
  },
  {
   "cell_type": "code",
   "execution_count": 73,
   "metadata": {},
   "outputs": [
    {
     "name": "stdout",
     "output_type": "stream",
     "text": [
      "Begin emission\n",
      "\n",
      "Finished sending 1 packets\n",
      "\n",
      "Received 2 packets, got 1 answers, remaining 0 packets\n"
     ]
    }
   ],
   "source": [
    "# send and get response\n",
    "reply = sr1(request)"
   ]
  },
  {
   "cell_type": "code",
   "execution_count": null,
   "metadata": {
    "scrolled": true
   },
   "outputs": [
    {
     "name": "stdout",
     "output_type": "stream",
     "text": [
      "\u001b[31m###[\u001b[0m\u001b[32m\u001b[1m \u001b[31m\u001b[1mIP\u001b[0m\u001b[32m\u001b[1m \u001b[31m]###\u001b[0m\u001b[32m\u001b[1m\n",
      "  \u001b[33m\u001b[1mversion\u001b[0m\u001b[32m\u001b[1m   \u001b[31m=\u001b[0m\u001b[32m\u001b[1m \u001b[32m\u001b[1m4\u001b[0m\u001b[32m\u001b[1m\n",
      "  \u001b[33m\u001b[1mihl\u001b[0m\u001b[32m\u001b[1m       \u001b[31m=\u001b[0m\u001b[32m\u001b[1m \u001b[32m\u001b[1m5\u001b[0m\u001b[32m\u001b[1m\n",
      "  \u001b[33m\u001b[1mtos\u001b[0m\u001b[32m\u001b[1m       \u001b[31m=\u001b[0m\u001b[32m\u001b[1m \u001b[32m\u001b[1m0x0\u001b[0m\u001b[32m\u001b[1m\n",
      "  \u001b[33m\u001b[1mlen\u001b[0m\u001b[32m\u001b[1m       \u001b[31m=\u001b[0m\u001b[32m\u001b[1m \u001b[32m\u001b[1m40\u001b[0m\u001b[32m\u001b[1m\n",
      "  \u001b[33m\u001b[1mid\u001b[0m\u001b[32m\u001b[1m        \u001b[31m=\u001b[0m\u001b[32m\u001b[1m \u001b[32m\u001b[1m0\u001b[0m\u001b[32m\u001b[1m\n",
      "  \u001b[33m\u001b[1mflags\u001b[0m\u001b[32m\u001b[1m     \u001b[31m=\u001b[0m\u001b[32m\u001b[1m \u001b[32m\u001b[1mDF\u001b[0m\u001b[32m\u001b[1m\n",
      "  \u001b[33m\u001b[1mfrag\u001b[0m\u001b[32m\u001b[1m      \u001b[31m=\u001b[0m\u001b[32m\u001b[1m \u001b[32m\u001b[1m0\u001b[0m\u001b[32m\u001b[1m\n",
      "  \u001b[33m\u001b[1mttl\u001b[0m\u001b[32m\u001b[1m       \u001b[31m=\u001b[0m\u001b[32m\u001b[1m \u001b[32m\u001b[1m64\u001b[0m\u001b[32m\u001b[1m\n",
      "  \u001b[33m\u001b[1mproto\u001b[0m\u001b[32m\u001b[1m     \u001b[31m=\u001b[0m\u001b[32m\u001b[1m \u001b[32m\u001b[1mtcp\u001b[0m\u001b[32m\u001b[1m\n",
      "  \u001b[33m\u001b[1mchksum\u001b[0m\u001b[32m\u001b[1m    \u001b[31m=\u001b[0m\u001b[32m\u001b[1m \u001b[32m\u001b[1m0x727d\u001b[0m\u001b[32m\u001b[1m\n",
      "  \u001b[32msrc\u001b[0m\u001b[32m\u001b[1m       \u001b[31m=\u001b[0m\u001b[32m\u001b[1m \u001b[32m192.168.35.130\u001b[0m\u001b[32m\u001b[1m\n",
      "  \u001b[32mdst\u001b[0m\u001b[32m\u001b[1m       \u001b[31m=\u001b[0m\u001b[32m\u001b[1m \u001b[32m192.168.35.128\u001b[0m\u001b[32m\u001b[1m\n",
      "  \u001b[31m\\\u001b[0m\u001b[32m\u001b[1m\u001b[33m\u001b[1moptions\u001b[0m\u001b[32m\u001b[1m   \u001b[31m\\\u001b[0m\u001b[32m\u001b[1m\n",
      "\u001b[31m###[\u001b[0m\u001b[32m\u001b[1m \u001b[31m\u001b[1mTCP\u001b[0m\u001b[32m\u001b[1m \u001b[31m]###\u001b[0m\u001b[32m\u001b[1m\n",
      "     \u001b[33m\u001b[1msport\u001b[0m\u001b[32m\u001b[1m     \u001b[31m=\u001b[0m\u001b[32m\u001b[1m \u001b[32m\u001b[1m5000\u001b[0m\u001b[32m\u001b[1m\n",
      "     \u001b[33m\u001b[1mdport\u001b[0m\u001b[32m\u001b[1m     \u001b[31m=\u001b[0m\u001b[32m\u001b[1m \u001b[32m\u001b[1mftp_data\u001b[0m\u001b[32m\u001b[1m\n",
      "     \u001b[33m\u001b[1mseq\u001b[0m\u001b[32m\u001b[1m       \u001b[31m=\u001b[0m\u001b[32m\u001b[1m \u001b[32m\u001b[1m1426801163\u001b[0m\u001b[32m\u001b[1m\n",
      "     \u001b[33m\u001b[1mack\u001b[0m\u001b[32m\u001b[1m       \u001b[31m=\u001b[0m\u001b[32m\u001b[1m \u001b[32m\u001b[1m0\u001b[0m\u001b[32m\u001b[1m\n",
      "     \u001b[33m\u001b[1mdataofs\u001b[0m\u001b[32m\u001b[1m   \u001b[31m=\u001b[0m\u001b[32m\u001b[1m \u001b[32m\u001b[1m5\u001b[0m\u001b[32m\u001b[1m\n",
      "     \u001b[33m\u001b[1mreserved\u001b[0m\u001b[32m\u001b[1m  \u001b[31m=\u001b[0m\u001b[32m\u001b[1m \u001b[32m\u001b[1m0\u001b[0m\u001b[32m\u001b[1m\n",
      "     \u001b[33m\u001b[1mflags\u001b[0m\u001b[32m\u001b[1m     \u001b[31m=\u001b[0m\u001b[32m\u001b[1m \u001b[32m\u001b[1mR\u001b[0m\u001b[32m\u001b[1m\n",
      "     \u001b[33m\u001b[1mwindow\u001b[0m\u001b[32m\u001b[1m    \u001b[31m=\u001b[0m\u001b[32m\u001b[1m \u001b[32m\u001b[1m0\u001b[0m\u001b[32m\u001b[1m\n",
      "     \u001b[33m\u001b[1mchksum\u001b[0m\u001b[32m\u001b[1m    \u001b[31m=\u001b[0m\u001b[32m\u001b[1m \u001b[32m\u001b[1m0x3cdb\u001b[0m\u001b[32m\u001b[1m\n",
      "     \u001b[33m\u001b[1murgptr\u001b[0m\u001b[32m\u001b[1m    \u001b[31m=\u001b[0m\u001b[32m\u001b[1m \u001b[32m\u001b[1m0\u001b[0m\u001b[32m\u001b[1m\n",
      "     \u001b[33m\u001b[1moptions\u001b[0m\u001b[32m\u001b[1m   \u001b[31m=\u001b[0m\u001b[32m\u001b[1m \u001b[32m\u001b[1m[]\u001b[0m\u001b[32m\u001b[1m\n",
      "\u001b[31m###[\u001b[0m\u001b[32m\u001b[1m \u001b[31m\u001b[1mPadding\u001b[0m\u001b[32m\u001b[1m \u001b[31m]###\u001b[0m\u001b[32m\u001b[1m\n",
      "        \u001b[33m\u001b[1mload\u001b[0m\u001b[32m\u001b[1m      \u001b[31m=\u001b[0m\u001b[32m\u001b[1m \u001b[32m\u001b[1mb'\\x00\\x00\\x00\\x00\\x00\\x00'\u001b[0m\u001b[32m\u001b[1m\n",
      "\n"
     ]
    }
   ],
   "source": [
    "# Server sends RES reset packet instead of HTTP data with ACK flag\n",
    "reply.show()"
   ]
  },
  {
   "cell_type": "code",
   "execution_count": 75,
   "metadata": {},
   "outputs": [
    {
     "data": {
      "text/plain": [
       "'IP / TCP 192.168.35.130:5000 > 192.168.35.128:ftp_data R / Padding'"
      ]
     },
     "execution_count": 75,
     "metadata": {},
     "output_type": "execute_result"
    }
   ],
   "source": [
    "reply.summary()"
   ]
  },
  {
   "cell_type": "code",
   "execution_count": null,
   "metadata": {},
   "outputs": [],
   "source": [
    "tcpip = IP(dst=\"example.com\") / TCP(dport=80) # tcp packet needs dest port\n",
    "reply = sr(tcpip)\n",
    "reply"
   ]
  },
  {
   "cell_type": "code",
   "execution_count": null,
   "metadata": {},
   "outputs": [],
   "source": [
    "ans, unans = reply "
   ]
  },
  {
   "cell_type": "code",
   "execution_count": null,
   "metadata": {},
   "outputs": [],
   "source": [
    "ans.summary()"
   ]
  },
  {
   "cell_type": "code",
   "execution_count": null,
   "metadata": {},
   "outputs": [],
   "source": [
    "unans"
   ]
  },
  {
   "cell_type": "markdown",
   "metadata": {},
   "source": [
    "## TCP Syn Flooding\n",
    "-  Not quite working with Scapy but should world with netwox\n",
    "- form of DoS attack where attacker doesn't complete 3-way handshake by not sending ACK packet after receiving SYN-ACK from server\n",
    "- attacker typically floods the victim's half-opened connections\n",
    "- when queue is full, victim cannot take any more new connection\n",
    "- See Taks 1 here: http://www.cis.syr.edu/~wedu/seed/Labs_16.04/Networking/TCP_Attacks/TCP_Attacks.pdf\n",
    "- queue size can be viwed by using the following command"
   ]
  },
  {
   "cell_type": "code",
   "execution_count": null,
   "metadata": {
    "scrolled": true
   },
   "outputs": [],
   "source": [
    "# on a server VM, run the following command\n",
    "# Run SEEDLab VM which has Apache server running\n",
    "! sysctl -q net.ipv4.tcp_max_syn_backlog"
   ]
  },
  {
   "cell_type": "code",
   "execution_count": null,
   "metadata": {},
   "outputs": [],
   "source": [
    "# set max backlog/queue size to 1\n",
    "! sudo sysctl -w net.ipv4.tcp_max_syn_backlog=2"
   ]
  },
  {
   "cell_type": "code",
   "execution_count": null,
   "metadata": {},
   "outputs": [],
   "source": [
    "# Turn of SYN cookie countermeasure\n",
    "! sudo sysctl -a | grep cookie #(Display the SYN cookie flag)"
   ]
  },
  {
   "cell_type": "code",
   "execution_count": null,
   "metadata": {},
   "outputs": [],
   "source": [
    "! sysctl -w net.ipv4.tcp_syncookies=0 #(turn off SYN cookie)"
   ]
  },
  {
   "cell_type": "code",
   "execution_count": null,
   "metadata": {
    "scrolled": false
   },
   "outputs": [],
   "source": [
    "# the following command shows all the halfopen connections\n",
    "! netstat -na | grep SYN-RECV"
   ]
  },
  {
   "cell_type": "code",
   "execution_count": null,
   "metadata": {},
   "outputs": [],
   "source": [
    "# send SYN PACKET To the server and check for SYN-RECV status\n",
    "#while True:\n",
    "pkt = IP(dst=f\"{host}\")/TCP(dport=80)\n",
    "reply = sr1(pkt)"
   ]
  },
  {
   "cell_type": "code",
   "execution_count": null,
   "metadata": {},
   "outputs": [],
   "source": [
    "reply.show()"
   ]
  },
  {
   "cell_type": "markdown",
   "metadata": {},
   "source": [
    "## Create ping request\n",
    "- IP packet with ICMP echo request and some payload\n",
    "- send the packet and capture it with wireshark"
   ]
  },
  {
   "cell_type": "code",
   "execution_count": 76,
   "metadata": {},
   "outputs": [],
   "source": [
    "host = 'google.com'"
   ]
  },
  {
   "cell_type": "code",
   "execution_count": 77,
   "metadata": {},
   "outputs": [],
   "source": [
    "# using spoofed IP\n",
    "payload = \"tell me if you get this?\"\n",
    "ping = IP(dst=f\"{host}\") / ICMP() / payload "
   ]
  },
  {
   "cell_type": "code",
   "execution_count": 78,
   "metadata": {},
   "outputs": [
    {
     "name": "stdout",
     "output_type": "stream",
     "text": [
      "\u001b[31m###[\u001b[0m\u001b[32m\u001b[1m \u001b[31m\u001b[1mIP\u001b[0m\u001b[32m\u001b[1m \u001b[31m]###\u001b[0m\u001b[32m\u001b[1m\n",
      "  \u001b[33m\u001b[1mversion\u001b[0m\u001b[32m\u001b[1m   \u001b[31m=\u001b[0m\u001b[32m\u001b[1m \u001b[32m\u001b[1m4\u001b[0m\u001b[32m\u001b[1m\n",
      "  \u001b[33m\u001b[1mihl\u001b[0m\u001b[32m\u001b[1m       \u001b[31m=\u001b[0m\u001b[32m\u001b[1m \u001b[32m\u001b[1mNone\u001b[0m\u001b[32m\u001b[1m\n",
      "  \u001b[33m\u001b[1mtos\u001b[0m\u001b[32m\u001b[1m       \u001b[31m=\u001b[0m\u001b[32m\u001b[1m \u001b[32m\u001b[1m0x0\u001b[0m\u001b[32m\u001b[1m\n",
      "  \u001b[33m\u001b[1mlen\u001b[0m\u001b[32m\u001b[1m       \u001b[31m=\u001b[0m\u001b[32m\u001b[1m \u001b[32m\u001b[1mNone\u001b[0m\u001b[32m\u001b[1m\n",
      "  \u001b[33m\u001b[1mid\u001b[0m\u001b[32m\u001b[1m        \u001b[31m=\u001b[0m\u001b[32m\u001b[1m \u001b[32m\u001b[1m1\u001b[0m\u001b[32m\u001b[1m\n",
      "  \u001b[33m\u001b[1mflags\u001b[0m\u001b[32m\u001b[1m     \u001b[31m=\u001b[0m\u001b[32m\u001b[1m \u001b[32m\u001b[1m\u001b[0m\u001b[32m\u001b[1m\n",
      "  \u001b[33m\u001b[1mfrag\u001b[0m\u001b[32m\u001b[1m      \u001b[31m=\u001b[0m\u001b[32m\u001b[1m \u001b[32m\u001b[1m0\u001b[0m\u001b[32m\u001b[1m\n",
      "  \u001b[33m\u001b[1mttl\u001b[0m\u001b[32m\u001b[1m       \u001b[31m=\u001b[0m\u001b[32m\u001b[1m \u001b[32m\u001b[1m64\u001b[0m\u001b[32m\u001b[1m\n",
      "  \u001b[33m\u001b[1mproto\u001b[0m\u001b[32m\u001b[1m     \u001b[31m=\u001b[0m\u001b[32m\u001b[1m \u001b[32m\u001b[1micmp\u001b[0m\u001b[32m\u001b[1m\n",
      "  \u001b[33m\u001b[1mchksum\u001b[0m\u001b[32m\u001b[1m    \u001b[31m=\u001b[0m\u001b[32m\u001b[1m \u001b[32m\u001b[1mNone\u001b[0m\u001b[32m\u001b[1m\n",
      "  \u001b[32msrc\u001b[0m\u001b[32m\u001b[1m       \u001b[31m=\u001b[0m\u001b[32m\u001b[1m \u001b[32m192.168.35.128\u001b[0m\u001b[32m\u001b[1m\n",
      "  \u001b[32mdst\u001b[0m\u001b[32m\u001b[1m       \u001b[31m=\u001b[0m\u001b[32m\u001b[1m \u001b[32mNet(\"google.com/32\")\u001b[0m\u001b[32m\u001b[1m\n",
      "  \u001b[31m\\\u001b[0m\u001b[32m\u001b[1m\u001b[33m\u001b[1moptions\u001b[0m\u001b[32m\u001b[1m   \u001b[31m\\\u001b[0m\u001b[32m\u001b[1m\n",
      "\u001b[31m###[\u001b[0m\u001b[32m\u001b[1m \u001b[31m\u001b[1mICMP\u001b[0m\u001b[32m\u001b[1m \u001b[31m]###\u001b[0m\u001b[32m\u001b[1m\n",
      "     \u001b[33m\u001b[1mtype\u001b[0m\u001b[32m\u001b[1m      \u001b[31m=\u001b[0m\u001b[32m\u001b[1m \u001b[32m\u001b[1mecho-request\u001b[0m\u001b[32m\u001b[1m\n",
      "     \u001b[33m\u001b[1mcode\u001b[0m\u001b[32m\u001b[1m      \u001b[31m=\u001b[0m\u001b[32m\u001b[1m \u001b[32m\u001b[1m0\u001b[0m\u001b[32m\u001b[1m\n",
      "     \u001b[33m\u001b[1mchksum\u001b[0m\u001b[32m\u001b[1m    \u001b[31m=\u001b[0m\u001b[32m\u001b[1m \u001b[32m\u001b[1mNone\u001b[0m\u001b[32m\u001b[1m\n",
      "     \u001b[33m\u001b[1mid\u001b[0m\u001b[32m\u001b[1m        \u001b[31m=\u001b[0m\u001b[32m\u001b[1m \u001b[32m\u001b[1m0x0\u001b[0m\u001b[32m\u001b[1m\n",
      "     \u001b[33m\u001b[1mseq\u001b[0m\u001b[32m\u001b[1m       \u001b[31m=\u001b[0m\u001b[32m\u001b[1m \u001b[32m\u001b[1m0x0\u001b[0m\u001b[32m\u001b[1m\n",
      "     \u001b[33m\u001b[1munused\u001b[0m\u001b[32m\u001b[1m    \u001b[31m=\u001b[0m\u001b[32m\u001b[1m \u001b[32m\u001b[1mb''\u001b[0m\u001b[32m\u001b[1m\n",
      "\u001b[31m###[\u001b[0m\u001b[32m\u001b[1m \u001b[31m\u001b[1mRaw\u001b[0m\u001b[32m\u001b[1m \u001b[31m]###\u001b[0m\u001b[32m\u001b[1m\n",
      "        \u001b[33m\u001b[1mload\u001b[0m\u001b[32m\u001b[1m      \u001b[31m=\u001b[0m\u001b[32m\u001b[1m \u001b[32m\u001b[1mb'tell me if you get this?'\u001b[0m\u001b[32m\u001b[1m\n",
      "\n"
     ]
    }
   ],
   "source": [
    "ping.show()"
   ]
  },
  {
   "cell_type": "code",
   "execution_count": 79,
   "metadata": {},
   "outputs": [
    {
     "name": "stdout",
     "output_type": "stream",
     "text": [
      ".\n",
      "Sent 1 packets.\n"
     ]
    }
   ],
   "source": [
    "send(ping)"
   ]
  },
  {
   "cell_type": "code",
   "execution_count": 80,
   "metadata": {},
   "outputs": [
    {
     "name": "stdout",
     "output_type": "stream",
     "text": [
      "Begin emission\n",
      "\n",
      "Finished sending 1 packets\n",
      "\n",
      "Received 1 packets, got 1 answers, remaining 0 packets\n",
      "\u001b[31m###[\u001b[0m\u001b[32m\u001b[1m \u001b[31m\u001b[1mIP\u001b[0m\u001b[32m\u001b[1m \u001b[31m]###\u001b[0m\u001b[32m\u001b[1m\n",
      "  \u001b[33m\u001b[1mversion\u001b[0m\u001b[32m\u001b[1m   \u001b[31m=\u001b[0m\u001b[32m\u001b[1m \u001b[32m\u001b[1m4\u001b[0m\u001b[32m\u001b[1m\n",
      "  \u001b[33m\u001b[1mihl\u001b[0m\u001b[32m\u001b[1m       \u001b[31m=\u001b[0m\u001b[32m\u001b[1m \u001b[32m\u001b[1m5\u001b[0m\u001b[32m\u001b[1m\n",
      "  \u001b[33m\u001b[1mtos\u001b[0m\u001b[32m\u001b[1m       \u001b[31m=\u001b[0m\u001b[32m\u001b[1m \u001b[32m\u001b[1m0x0\u001b[0m\u001b[32m\u001b[1m\n",
      "  \u001b[33m\u001b[1mlen\u001b[0m\u001b[32m\u001b[1m       \u001b[31m=\u001b[0m\u001b[32m\u001b[1m \u001b[32m\u001b[1m52\u001b[0m\u001b[32m\u001b[1m\n",
      "  \u001b[33m\u001b[1mid\u001b[0m\u001b[32m\u001b[1m        \u001b[31m=\u001b[0m\u001b[32m\u001b[1m \u001b[32m\u001b[1m62513\u001b[0m\u001b[32m\u001b[1m\n",
      "  \u001b[33m\u001b[1mflags\u001b[0m\u001b[32m\u001b[1m     \u001b[31m=\u001b[0m\u001b[32m\u001b[1m \u001b[32m\u001b[1m\u001b[0m\u001b[32m\u001b[1m\n",
      "  \u001b[33m\u001b[1mfrag\u001b[0m\u001b[32m\u001b[1m      \u001b[31m=\u001b[0m\u001b[32m\u001b[1m \u001b[32m\u001b[1m0\u001b[0m\u001b[32m\u001b[1m\n",
      "  \u001b[33m\u001b[1mttl\u001b[0m\u001b[32m\u001b[1m       \u001b[31m=\u001b[0m\u001b[32m\u001b[1m \u001b[32m\u001b[1m128\u001b[0m\u001b[32m\u001b[1m\n",
      "  \u001b[33m\u001b[1mproto\u001b[0m\u001b[32m\u001b[1m     \u001b[31m=\u001b[0m\u001b[32m\u001b[1m \u001b[32m\u001b[1micmp\u001b[0m\u001b[32m\u001b[1m\n",
      "  \u001b[33m\u001b[1mchksum\u001b[0m\u001b[32m\u001b[1m    \u001b[31m=\u001b[0m\u001b[32m\u001b[1m \u001b[32m\u001b[1m0x89e6\u001b[0m\u001b[32m\u001b[1m\n",
      "  \u001b[32msrc\u001b[0m\u001b[32m\u001b[1m       \u001b[31m=\u001b[0m\u001b[32m\u001b[1m \u001b[32m142.250.73.142\u001b[0m\u001b[32m\u001b[1m\n",
      "  \u001b[32mdst\u001b[0m\u001b[32m\u001b[1m       \u001b[31m=\u001b[0m\u001b[32m\u001b[1m \u001b[32m192.168.35.128\u001b[0m\u001b[32m\u001b[1m\n",
      "  \u001b[31m\\\u001b[0m\u001b[32m\u001b[1m\u001b[33m\u001b[1moptions\u001b[0m\u001b[32m\u001b[1m   \u001b[31m\\\u001b[0m\u001b[32m\u001b[1m\n",
      "\u001b[31m###[\u001b[0m\u001b[32m\u001b[1m \u001b[31m\u001b[1mICMP\u001b[0m\u001b[32m\u001b[1m \u001b[31m]###\u001b[0m\u001b[32m\u001b[1m\n",
      "     \u001b[33m\u001b[1mtype\u001b[0m\u001b[32m\u001b[1m      \u001b[31m=\u001b[0m\u001b[32m\u001b[1m \u001b[32m\u001b[1mecho-reply\u001b[0m\u001b[32m\u001b[1m\n",
      "     \u001b[33m\u001b[1mcode\u001b[0m\u001b[32m\u001b[1m      \u001b[31m=\u001b[0m\u001b[32m\u001b[1m \u001b[32m\u001b[1m0\u001b[0m\u001b[32m\u001b[1m\n",
      "     \u001b[33m\u001b[1mchksum\u001b[0m\u001b[32m\u001b[1m    \u001b[31m=\u001b[0m\u001b[32m\u001b[1m \u001b[32m\u001b[1m0x1e53\u001b[0m\u001b[32m\u001b[1m\n",
      "     \u001b[33m\u001b[1mid\u001b[0m\u001b[32m\u001b[1m        \u001b[31m=\u001b[0m\u001b[32m\u001b[1m \u001b[32m\u001b[1m0x0\u001b[0m\u001b[32m\u001b[1m\n",
      "     \u001b[33m\u001b[1mseq\u001b[0m\u001b[32m\u001b[1m       \u001b[31m=\u001b[0m\u001b[32m\u001b[1m \u001b[32m\u001b[1m0x0\u001b[0m\u001b[32m\u001b[1m\n",
      "     \u001b[33m\u001b[1munused\u001b[0m\u001b[32m\u001b[1m    \u001b[31m=\u001b[0m\u001b[32m\u001b[1m \u001b[32m\u001b[1mb''\u001b[0m\u001b[32m\u001b[1m\n",
      "\u001b[31m###[\u001b[0m\u001b[32m\u001b[1m \u001b[31m\u001b[1mRaw\u001b[0m\u001b[32m\u001b[1m \u001b[31m]###\u001b[0m\u001b[32m\u001b[1m\n",
      "        \u001b[33m\u001b[1mload\u001b[0m\u001b[32m\u001b[1m      \u001b[31m=\u001b[0m\u001b[32m\u001b[1m \u001b[32m\u001b[1mb'tell me if you get this?'\u001b[0m\u001b[32m\u001b[1m\n",
      "\n"
     ]
    }
   ],
   "source": [
    "# you'll never receive the ping response, if your spoof the source destination\n",
    "reply = sr1(ping)\n",
    "reply.show()"
   ]
  },
  {
   "cell_type": "code",
   "execution_count": null,
   "metadata": {},
   "outputs": [],
   "source": [
    "'tell me' in reply['Raw'].load.decode('utf-8')"
   ]
  },
  {
   "cell_type": "markdown",
   "metadata": {},
   "source": [
    "## Exercise\n",
    "\n",
    "- Spoof src IP and ping some IP in the network you own!\n",
    "- "
   ]
  },
  {
   "cell_type": "code",
   "execution_count": null,
   "metadata": {},
   "outputs": [],
   "source": []
  }
 ],
 "metadata": {
  "kernelspec": {
   "display_name": "Python 3",
   "language": "python",
   "name": "python3"
  },
  "language_info": {
   "codemirror_mode": {
    "name": "ipython",
    "version": 3
   },
   "file_extension": ".py",
   "mimetype": "text/x-python",
   "name": "python",
   "nbconvert_exporter": "python",
   "pygments_lexer": "ipython3",
   "version": "3.13.3"
  }
 },
 "nbformat": 4,
 "nbformat_minor": 2
}
