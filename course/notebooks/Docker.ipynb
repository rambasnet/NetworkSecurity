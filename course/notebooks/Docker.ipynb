{
 "cells": [
  {
   "cell_type": "markdown",
   "id": "b36513a1-eca3-49f6-b328-c3183578d966",
   "metadata": {},
   "source": [
    "# Docker\n",
    "\n",
    "## Install Docker & Docker Compose\n",
    "- GitHub Codespaces already has docker and docker-compose installed and the docker daemon running\n",
    "- if you download and use SEED VM Ubuntu 20.04 from https://seedsecuritylabs.org/labs.html, you already have docker installed and configured\n",
    "- if you use your own Ubuntu/Kali, follow the instructions from the following link:\n",
    "     - https://www.kali.org/docs/containers/installing-docker-on-kali/#installing-docker-ce-on-kali-linux\n",
    "- `$ sudo apt install -y docker-compose`\n",
    "\n",
    "## Docker Documentations\n",
    "- Docker Manual from SEEDLabs\n",
    "- [https://github.com/seed-labs/seed-labs/blob/master/manuals/docker/SEEDManual-Container.md](https://github.com/seed-labs/seed-labs/blob/master/manuals/docker/SEEDManual-Container.md)\n",
    "- https://docs.docker.com/get-started/\n",
    "- https://docs.docker.com/manuals/\n",
    "\n",
    "## Docker Hub Account and CLI Authentication\n",
    "\n",
    "- Create an account on [https://hub.docker.com/](https://hub.docker.com/)\n",
    "- Create Access Token\n",
    "     - Go to Account Settings -> Create Access Token\n",
    "     - Save the taken safely somewhere private (Google Drive or OneDrive)\n",
    "- Rename existing `~/.docker/config.json` file as a backup\n",
    "- Log in from a Terminal using the Access Token\n",
    "- Note you only have to do this once per system\n",
    "\n",
    "```bash\n",
    "$ docker login -u <username>\n",
    "```"
   ]
  },
  {
   "cell_type": "code",
   "execution_count": 1,
   "id": "87366d6d-1b2c-40b5-9763-17eb5a7fea7f",
   "metadata": {},
   "outputs": [
    {
     "name": "stdout",
     "output_type": "stream",
     "text": [
      "Reading package lists... Done\n",
      "Building dependency tree... Done\n",
      "Reading state information... Done\n",
      "docker-compose is already the newest version (1.29.2-6).\n",
      "The following packages were automatically installed and are no longer required:\n",
      "  fonts-noto-color-emoji libabsl20220623 libaio1 libatk-adaptor libbabeltrace1\n",
      "  libboost-dev libboost1.83-dev libc6-dbg libdebuginfod-common libipt2\n",
      "  libnsl-dev libopenblas-dev libopenblas-pthread-dev libopenblas0\n",
      "  libpython3-all-dev libpython3.12-dev libsource-highlight-common\n",
      "  libsource-highlight4t64 libtirpc-dev libxsimd-dev python3-all-dev\n",
      "  python3-anyjson python3-beniget python3-gast python3-pyatspi python3-pypdf2\n",
      "  python3-pyppeteer python3-pyrsistent python3-pythran python3.12-dev xtl-dev\n",
      "Use 'sudo apt autoremove' to remove them.\n",
      "0 upgraded, 0 newly installed, 0 to remove and 1327 not upgraded.\n"
     ]
    }
   ],
   "source": [
    "! echo kali | sudo -S apt install -y docker-compose"
   ]
  },
  {
   "cell_type": "markdown",
   "id": "476cfb65",
   "metadata": {},
   "source": [
    "## Push Docker Image to Docker Hub\n",
    "\n",
    "- images can be built and push to Docker hub for others to access publicly or to share privately\n",
    "- Build and Push First Image - [https://docs.docker.com/get-started/introduction/build-and-push-first-image/](https://docs.docker.com/get-started/introduction/build-and-push-first-image/)\n",
    "\n",
    "```\n",
    "$ docker build -t <username>/image_name:tag .\n",
    "$ docker push <username>/image_name:tag\n",
    "```\n",
    "\n",
    "## Docker Scout\n",
    "- See this - [https://docs.docker.com/scout/](https://docs.docker.com/scout/)\n",
    "- See Quickstart page and go over it step by step!"
   ]
  },
  {
   "cell_type": "markdown",
   "id": "a0aa670b-ac4f-4390-a0ee-5980ecec44ad",
   "metadata": {},
   "source": [
    "## Docker Networks Demo\n",
    "\n",
    "- see `demos/docker/networks/docker-compose.yml` file for two private networks demo\n",
    "-\n",
    "\n",
    "## Important Docker Commands\n",
    "\n",
    "- `$ sudo docker ps`\n",
    "- `$ sudo docker exec -it <container-name/id> <bash command; e.g. /bin/bash>`\n",
    "- `$ sudo docker image ls`\n",
    "- `$ sudo docker image rm <image-id>`\n",
    "- `$ sudo docker network ls`\n",
    "- `$ sudo docker network rm <network-id>`"
   ]
  }
 ],
 "metadata": {
  "kernelspec": {
   "display_name": "Python 3 (ipykernel)",
   "language": "python",
   "name": "python3"
  },
  "language_info": {
   "codemirror_mode": {
    "name": "ipython",
    "version": 3
   },
   "file_extension": ".py",
   "mimetype": "text/x-python",
   "name": "python",
   "nbconvert_exporter": "python",
   "pygments_lexer": "ipython3",
   "version": "3.8.10"
  }
 },
 "nbformat": 4,
 "nbformat_minor": 5
}
