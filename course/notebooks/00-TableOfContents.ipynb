{
 "cells": [
  {
   "cell_type": "markdown",
   "metadata": {},
   "source": [
    "# Network & Exploitation\n",
    "\n",
    "## Table of Contents\n",
    "\n",
    "- **[Docker](./Docker.ipynb)**\n",
    "- **[Networking](./Networking.ipynb)**\n",
    "- **[Network Utilities](./NetworkUtility.ipynb)**\n",
    "- **[Network Sniffing](./NetworkSniffing.ipynb)**\n",
    "- **[Scapy Introduction](./ScapyIntro.ipynb)**\n",
    "- **[Scapy Create, Send and Receive Packets](./ScapyCreateSendReceivePackets.ipynb)**\n",
    "- **[Sniffing Packets with Scapy](./SniffingWithScapy.ipynb)**\n",
    "- **[TCP Attacks](./TCPAttacks.ipynb)**\n",
    "- **[DNS Attacks](./DNS-Attacks.ipynb)**\n",
    "- **[Scapy Scripts](./ScapyScripts.ipynb)**\n",
    "- **[Format Strings](https://github.com/rambasnet/EthicalHacking/blob/main/FormatStrings.ipynb)**"
   ]
  },
  {
   "cell_type": "code",
   "execution_count": null,
   "metadata": {},
   "outputs": [],
   "source": []
  }
 ],
 "metadata": {
  "kernelspec": {
   "display_name": "Python 3 (ipykernel)",
   "language": "python",
   "name": "python3"
  },
  "language_info": {
   "codemirror_mode": {
    "name": "ipython",
    "version": 3
   },
   "file_extension": ".py",
   "mimetype": "text/x-python",
   "name": "python",
   "nbconvert_exporter": "python",
   "pygments_lexer": "ipython3",
   "version": "3.8.10"
  }
 },
 "nbformat": 4,
 "nbformat_minor": 4
}
